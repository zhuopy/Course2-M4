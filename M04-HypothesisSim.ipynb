{
 "cells": [
  {
   "cell_type": "markdown",
   "metadata": {},
   "source": [
    "# Milestone 4 - Independent Project\n",
    "\n",
    "## Author -\n",
    "\n"
   ]
  },
  {
   "cell_type": "markdown",
   "metadata": {},
   "source": [
    "## Instructions\n",
    "\n",
    "1. Generate a clear statement problem and provide the location for the datasetyou use.\n",
    "2. Provide a clear solution to the problem for a non-technical audience.\n",
    "3. Visually explore the data to generate insight and include summary statistics.\n",
    "4. Use an appropriate statistical analysis method.\n",
    "5. Prepare the data via cleaning, normalization, encoding, et cetera.\n",
    "6. Generate and evaluate a working model (hypothesis, linear, or time series).\n",
    "7. Draw direct inferences and conclusions from model results.\n",
    "8. Use professional coding standards and techniques including:\n",
    "\n",
    "    - explanatory markdown text\n",
    "    - proper code comments\n",
    "    - functions to minimize redundant code\n",
    "    - minimize hard-coded variables"
   ]
  },
  {
   "cell_type": "markdown",
   "metadata": {},
   "source": [
    "### Note\n",
    "Please use the <a class=\"icon-pdf\" title=\"Independent Project Rubric\" href=\"https://library.startlearninglabs.uw.edu/DATASCI410/Handouts/DATASCI%20410%20Independent%20Project%20Rubric.pdf\" target=\"_blank\" rel=\"noopener\">Rubric</a> as a general guide for your project."
   ]
  },
  {
   "cell_type": "markdown",
   "metadata": {},
   "source": [
    "# Abstract\n",
    "## Problem\n",
    "How different features of houses affect the house price in King county? Can we use regression model to predict houses price with high accuracy?\n",
    "\n",
    "## Conclusion\n",
    "With the given dataset, features are pre-selected (not related, repeated features are dropped), normalized and encoded. By using SVR model, we can have a high performance model with r2 score to be around 0.8, suggesting that we can predict house pricing using given features with good accuracy. The SVR model uses radial basis function kernel, and with the poor performance of linear regression, we'd say that the price is non-linearly dependent on given features. "
   ]
  },
  {
   "cell_type": "code",
   "execution_count": 2,
   "metadata": {},
   "outputs": [],
   "source": [
    "# Location of dataset\n",
    "# I download the the dataset from web page, it's located in my local environment \n",
    "#it also can be found :https://www.kaggle.com/harlfoxem/housesalesprediction"
   ]
  },
  {
   "cell_type": "code",
   "execution_count": 3,
   "metadata": {},
   "outputs": [],
   "source": [
    "# Load necessary libraries\n",
    "import pandas as pd\n",
    "import numpy as np\n",
    "import matplotlib.pyplot as plt\n",
    "import seaborn as sns\n",
    "from sklearn.preprocessing import scale\n",
    "import numpy.random as nr\n",
    "import scipy.stats as ss\n",
    "%matplotlib inline"
   ]
  },
  {
   "cell_type": "code",
   "execution_count": 4,
   "metadata": {},
   "outputs": [],
   "source": [
    "#reading file using pandas\n",
    "df = pd.read_csv('kc_house_data.csv')\n",
    "#set to display 2 decimal place\n",
    "pd.set_option('display.float_format', lambda x: '%.2f' % x)"
   ]
  },
  {
   "cell_type": "code",
   "execution_count": 5,
   "metadata": {},
   "outputs": [
    {
     "data": {
      "text/html": [
       "<div>\n",
       "<style scoped>\n",
       "    .dataframe tbody tr th:only-of-type {\n",
       "        vertical-align: middle;\n",
       "    }\n",
       "\n",
       "    .dataframe tbody tr th {\n",
       "        vertical-align: top;\n",
       "    }\n",
       "\n",
       "    .dataframe thead th {\n",
       "        text-align: right;\n",
       "    }\n",
       "</style>\n",
       "<table border=\"1\" class=\"dataframe\">\n",
       "  <thead>\n",
       "    <tr style=\"text-align: right;\">\n",
       "      <th></th>\n",
       "      <th>id</th>\n",
       "      <th>date</th>\n",
       "      <th>price</th>\n",
       "      <th>bedrooms</th>\n",
       "      <th>bathrooms</th>\n",
       "      <th>sqft_living</th>\n",
       "      <th>sqft_lot</th>\n",
       "      <th>floors</th>\n",
       "      <th>waterfront</th>\n",
       "      <th>view</th>\n",
       "    </tr>\n",
       "  </thead>\n",
       "  <tbody>\n",
       "    <tr>\n",
       "      <th>0</th>\n",
       "      <td>7129300520</td>\n",
       "      <td>20141013T000000</td>\n",
       "      <td>221900.00</td>\n",
       "      <td>3</td>\n",
       "      <td>1.00</td>\n",
       "      <td>1180</td>\n",
       "      <td>5650</td>\n",
       "      <td>1.00</td>\n",
       "      <td>0</td>\n",
       "      <td>0</td>\n",
       "    </tr>\n",
       "    <tr>\n",
       "      <th>1</th>\n",
       "      <td>6414100192</td>\n",
       "      <td>20141209T000000</td>\n",
       "      <td>538000.00</td>\n",
       "      <td>3</td>\n",
       "      <td>2.25</td>\n",
       "      <td>2570</td>\n",
       "      <td>7242</td>\n",
       "      <td>2.00</td>\n",
       "      <td>0</td>\n",
       "      <td>0</td>\n",
       "    </tr>\n",
       "    <tr>\n",
       "      <th>2</th>\n",
       "      <td>5631500400</td>\n",
       "      <td>20150225T000000</td>\n",
       "      <td>180000.00</td>\n",
       "      <td>2</td>\n",
       "      <td>1.00</td>\n",
       "      <td>770</td>\n",
       "      <td>10000</td>\n",
       "      <td>1.00</td>\n",
       "      <td>0</td>\n",
       "      <td>0</td>\n",
       "    </tr>\n",
       "    <tr>\n",
       "      <th>3</th>\n",
       "      <td>2487200875</td>\n",
       "      <td>20141209T000000</td>\n",
       "      <td>604000.00</td>\n",
       "      <td>4</td>\n",
       "      <td>3.00</td>\n",
       "      <td>1960</td>\n",
       "      <td>5000</td>\n",
       "      <td>1.00</td>\n",
       "      <td>0</td>\n",
       "      <td>0</td>\n",
       "    </tr>\n",
       "    <tr>\n",
       "      <th>4</th>\n",
       "      <td>1954400510</td>\n",
       "      <td>20150218T000000</td>\n",
       "      <td>510000.00</td>\n",
       "      <td>3</td>\n",
       "      <td>2.00</td>\n",
       "      <td>1680</td>\n",
       "      <td>8080</td>\n",
       "      <td>1.00</td>\n",
       "      <td>0</td>\n",
       "      <td>0</td>\n",
       "    </tr>\n",
       "  </tbody>\n",
       "</table>\n",
       "</div>"
      ],
      "text/plain": [
       "           id             date     price  bedrooms  bathrooms  sqft_living  \\\n",
       "0  7129300520  20141013T000000 221900.00         3       1.00         1180   \n",
       "1  6414100192  20141209T000000 538000.00         3       2.25         2570   \n",
       "2  5631500400  20150225T000000 180000.00         2       1.00          770   \n",
       "3  2487200875  20141209T000000 604000.00         4       3.00         1960   \n",
       "4  1954400510  20150218T000000 510000.00         3       2.00         1680   \n",
       "\n",
       "   sqft_lot  floors  waterfront  view  \n",
       "0      5650    1.00           0     0  \n",
       "1      7242    2.00           0     0  \n",
       "2     10000    1.00           0     0  \n",
       "3      5000    1.00           0     0  \n",
       "4      8080    1.00           0     0  "
      ]
     },
     "execution_count": 5,
     "metadata": {},
     "output_type": "execute_result"
    }
   ],
   "source": [
    "#show the first five rows data\n",
    "df.iloc[::,:10].head()"
   ]
  },
  {
   "cell_type": "markdown",
   "metadata": {},
   "source": [
    "View the first 10 columns of the dataset to get a sense of what data look like."
   ]
  },
  {
   "cell_type": "code",
   "execution_count": 6,
   "metadata": {},
   "outputs": [
    {
     "data": {
      "text/html": [
       "<div>\n",
       "<style scoped>\n",
       "    .dataframe tbody tr th:only-of-type {\n",
       "        vertical-align: middle;\n",
       "    }\n",
       "\n",
       "    .dataframe tbody tr th {\n",
       "        vertical-align: top;\n",
       "    }\n",
       "\n",
       "    .dataframe thead th {\n",
       "        text-align: right;\n",
       "    }\n",
       "</style>\n",
       "<table border=\"1\" class=\"dataframe\">\n",
       "  <thead>\n",
       "    <tr style=\"text-align: right;\">\n",
       "      <th></th>\n",
       "      <th>id</th>\n",
       "      <th>price</th>\n",
       "      <th>bedrooms</th>\n",
       "      <th>bathrooms</th>\n",
       "      <th>sqft_living</th>\n",
       "      <th>sqft_lot</th>\n",
       "      <th>floors</th>\n",
       "      <th>waterfront</th>\n",
       "      <th>view</th>\n",
       "      <th>condition</th>\n",
       "    </tr>\n",
       "  </thead>\n",
       "  <tbody>\n",
       "    <tr>\n",
       "      <th>count</th>\n",
       "      <td>21613.00</td>\n",
       "      <td>21613.00</td>\n",
       "      <td>21613.00</td>\n",
       "      <td>21613.00</td>\n",
       "      <td>21613.00</td>\n",
       "      <td>21613.00</td>\n",
       "      <td>21613.00</td>\n",
       "      <td>21613.00</td>\n",
       "      <td>21613.00</td>\n",
       "      <td>21613.00</td>\n",
       "    </tr>\n",
       "    <tr>\n",
       "      <th>mean</th>\n",
       "      <td>4580301520.86</td>\n",
       "      <td>540088.14</td>\n",
       "      <td>3.37</td>\n",
       "      <td>2.11</td>\n",
       "      <td>2079.90</td>\n",
       "      <td>15106.97</td>\n",
       "      <td>1.49</td>\n",
       "      <td>0.01</td>\n",
       "      <td>0.23</td>\n",
       "      <td>3.41</td>\n",
       "    </tr>\n",
       "    <tr>\n",
       "      <th>std</th>\n",
       "      <td>2876565571.31</td>\n",
       "      <td>367127.20</td>\n",
       "      <td>0.93</td>\n",
       "      <td>0.77</td>\n",
       "      <td>918.44</td>\n",
       "      <td>41420.51</td>\n",
       "      <td>0.54</td>\n",
       "      <td>0.09</td>\n",
       "      <td>0.77</td>\n",
       "      <td>0.65</td>\n",
       "    </tr>\n",
       "    <tr>\n",
       "      <th>min</th>\n",
       "      <td>1000102.00</td>\n",
       "      <td>75000.00</td>\n",
       "      <td>0.00</td>\n",
       "      <td>0.00</td>\n",
       "      <td>290.00</td>\n",
       "      <td>520.00</td>\n",
       "      <td>1.00</td>\n",
       "      <td>0.00</td>\n",
       "      <td>0.00</td>\n",
       "      <td>1.00</td>\n",
       "    </tr>\n",
       "    <tr>\n",
       "      <th>25%</th>\n",
       "      <td>2123049194.00</td>\n",
       "      <td>321950.00</td>\n",
       "      <td>3.00</td>\n",
       "      <td>1.75</td>\n",
       "      <td>1427.00</td>\n",
       "      <td>5040.00</td>\n",
       "      <td>1.00</td>\n",
       "      <td>0.00</td>\n",
       "      <td>0.00</td>\n",
       "      <td>3.00</td>\n",
       "    </tr>\n",
       "    <tr>\n",
       "      <th>50%</th>\n",
       "      <td>3904930410.00</td>\n",
       "      <td>450000.00</td>\n",
       "      <td>3.00</td>\n",
       "      <td>2.25</td>\n",
       "      <td>1910.00</td>\n",
       "      <td>7618.00</td>\n",
       "      <td>1.50</td>\n",
       "      <td>0.00</td>\n",
       "      <td>0.00</td>\n",
       "      <td>3.00</td>\n",
       "    </tr>\n",
       "    <tr>\n",
       "      <th>75%</th>\n",
       "      <td>7308900445.00</td>\n",
       "      <td>645000.00</td>\n",
       "      <td>4.00</td>\n",
       "      <td>2.50</td>\n",
       "      <td>2550.00</td>\n",
       "      <td>10688.00</td>\n",
       "      <td>2.00</td>\n",
       "      <td>0.00</td>\n",
       "      <td>0.00</td>\n",
       "      <td>4.00</td>\n",
       "    </tr>\n",
       "    <tr>\n",
       "      <th>max</th>\n",
       "      <td>9900000190.00</td>\n",
       "      <td>7700000.00</td>\n",
       "      <td>33.00</td>\n",
       "      <td>8.00</td>\n",
       "      <td>13540.00</td>\n",
       "      <td>1651359.00</td>\n",
       "      <td>3.50</td>\n",
       "      <td>1.00</td>\n",
       "      <td>4.00</td>\n",
       "      <td>5.00</td>\n",
       "    </tr>\n",
       "  </tbody>\n",
       "</table>\n",
       "</div>"
      ],
      "text/plain": [
       "                 id      price  bedrooms  bathrooms  sqft_living   sqft_lot  \\\n",
       "count      21613.00   21613.00  21613.00   21613.00     21613.00   21613.00   \n",
       "mean  4580301520.86  540088.14      3.37       2.11      2079.90   15106.97   \n",
       "std   2876565571.31  367127.20      0.93       0.77       918.44   41420.51   \n",
       "min      1000102.00   75000.00      0.00       0.00       290.00     520.00   \n",
       "25%   2123049194.00  321950.00      3.00       1.75      1427.00    5040.00   \n",
       "50%   3904930410.00  450000.00      3.00       2.25      1910.00    7618.00   \n",
       "75%   7308900445.00  645000.00      4.00       2.50      2550.00   10688.00   \n",
       "max   9900000190.00 7700000.00     33.00       8.00     13540.00 1651359.00   \n",
       "\n",
       "        floors  waterfront     view  condition  \n",
       "count 21613.00    21613.00 21613.00   21613.00  \n",
       "mean      1.49        0.01     0.23       3.41  \n",
       "std       0.54        0.09     0.77       0.65  \n",
       "min       1.00        0.00     0.00       1.00  \n",
       "25%       1.00        0.00     0.00       3.00  \n",
       "50%       1.50        0.00     0.00       3.00  \n",
       "75%       2.00        0.00     0.00       4.00  \n",
       "max       3.50        1.00     4.00       5.00  "
      ]
     },
     "execution_count": 6,
     "metadata": {},
     "output_type": "execute_result"
    }
   ],
   "source": [
    "df.describe().iloc[:,:10]"
   ]
  },
  {
   "cell_type": "markdown",
   "metadata": {},
   "source": [
    "See the general statistics of dthe dataset for the first 10 columns.\n",
    "\n",
    "id column is not a feature, which chould remove. "
   ]
  },
  {
   "cell_type": "code",
   "execution_count": 7,
   "metadata": {},
   "outputs": [
    {
     "data": {
      "text/html": [
       "<div>\n",
       "<style scoped>\n",
       "    .dataframe tbody tr th:only-of-type {\n",
       "        vertical-align: middle;\n",
       "    }\n",
       "\n",
       "    .dataframe tbody tr th {\n",
       "        vertical-align: top;\n",
       "    }\n",
       "\n",
       "    .dataframe thead th {\n",
       "        text-align: right;\n",
       "    }\n",
       "</style>\n",
       "<table border=\"1\" class=\"dataframe\">\n",
       "  <thead>\n",
       "    <tr style=\"text-align: right;\">\n",
       "      <th></th>\n",
       "      <th>grade</th>\n",
       "      <th>sqft_above</th>\n",
       "      <th>sqft_basement</th>\n",
       "      <th>yr_built</th>\n",
       "      <th>yr_renovated</th>\n",
       "      <th>zipcode</th>\n",
       "      <th>lat</th>\n",
       "      <th>long</th>\n",
       "      <th>sqft_living15</th>\n",
       "      <th>sqft_lot15</th>\n",
       "    </tr>\n",
       "  </thead>\n",
       "  <tbody>\n",
       "    <tr>\n",
       "      <th>count</th>\n",
       "      <td>21613.00</td>\n",
       "      <td>21613.00</td>\n",
       "      <td>21613.00</td>\n",
       "      <td>21613.00</td>\n",
       "      <td>21613.00</td>\n",
       "      <td>21613.00</td>\n",
       "      <td>21613.00</td>\n",
       "      <td>21613.00</td>\n",
       "      <td>21613.00</td>\n",
       "      <td>21613.00</td>\n",
       "    </tr>\n",
       "    <tr>\n",
       "      <th>mean</th>\n",
       "      <td>7.66</td>\n",
       "      <td>1788.39</td>\n",
       "      <td>291.51</td>\n",
       "      <td>1971.01</td>\n",
       "      <td>84.40</td>\n",
       "      <td>98077.94</td>\n",
       "      <td>47.56</td>\n",
       "      <td>-122.21</td>\n",
       "      <td>1986.55</td>\n",
       "      <td>12768.46</td>\n",
       "    </tr>\n",
       "    <tr>\n",
       "      <th>std</th>\n",
       "      <td>1.18</td>\n",
       "      <td>828.09</td>\n",
       "      <td>442.58</td>\n",
       "      <td>29.37</td>\n",
       "      <td>401.68</td>\n",
       "      <td>53.51</td>\n",
       "      <td>0.14</td>\n",
       "      <td>0.14</td>\n",
       "      <td>685.39</td>\n",
       "      <td>27304.18</td>\n",
       "    </tr>\n",
       "    <tr>\n",
       "      <th>min</th>\n",
       "      <td>1.00</td>\n",
       "      <td>290.00</td>\n",
       "      <td>0.00</td>\n",
       "      <td>1900.00</td>\n",
       "      <td>0.00</td>\n",
       "      <td>98001.00</td>\n",
       "      <td>47.16</td>\n",
       "      <td>-122.52</td>\n",
       "      <td>399.00</td>\n",
       "      <td>651.00</td>\n",
       "    </tr>\n",
       "    <tr>\n",
       "      <th>25%</th>\n",
       "      <td>7.00</td>\n",
       "      <td>1190.00</td>\n",
       "      <td>0.00</td>\n",
       "      <td>1951.00</td>\n",
       "      <td>0.00</td>\n",
       "      <td>98033.00</td>\n",
       "      <td>47.47</td>\n",
       "      <td>-122.33</td>\n",
       "      <td>1490.00</td>\n",
       "      <td>5100.00</td>\n",
       "    </tr>\n",
       "    <tr>\n",
       "      <th>50%</th>\n",
       "      <td>7.00</td>\n",
       "      <td>1560.00</td>\n",
       "      <td>0.00</td>\n",
       "      <td>1975.00</td>\n",
       "      <td>0.00</td>\n",
       "      <td>98065.00</td>\n",
       "      <td>47.57</td>\n",
       "      <td>-122.23</td>\n",
       "      <td>1840.00</td>\n",
       "      <td>7620.00</td>\n",
       "    </tr>\n",
       "    <tr>\n",
       "      <th>75%</th>\n",
       "      <td>8.00</td>\n",
       "      <td>2210.00</td>\n",
       "      <td>560.00</td>\n",
       "      <td>1997.00</td>\n",
       "      <td>0.00</td>\n",
       "      <td>98118.00</td>\n",
       "      <td>47.68</td>\n",
       "      <td>-122.12</td>\n",
       "      <td>2360.00</td>\n",
       "      <td>10083.00</td>\n",
       "    </tr>\n",
       "    <tr>\n",
       "      <th>max</th>\n",
       "      <td>13.00</td>\n",
       "      <td>9410.00</td>\n",
       "      <td>4820.00</td>\n",
       "      <td>2015.00</td>\n",
       "      <td>2015.00</td>\n",
       "      <td>98199.00</td>\n",
       "      <td>47.78</td>\n",
       "      <td>-121.31</td>\n",
       "      <td>6210.00</td>\n",
       "      <td>871200.00</td>\n",
       "    </tr>\n",
       "  </tbody>\n",
       "</table>\n",
       "</div>"
      ],
      "text/plain": [
       "         grade  sqft_above  sqft_basement  yr_built  yr_renovated  zipcode  \\\n",
       "count 21613.00    21613.00       21613.00  21613.00      21613.00 21613.00   \n",
       "mean      7.66     1788.39         291.51   1971.01         84.40 98077.94   \n",
       "std       1.18      828.09         442.58     29.37        401.68    53.51   \n",
       "min       1.00      290.00           0.00   1900.00          0.00 98001.00   \n",
       "25%       7.00     1190.00           0.00   1951.00          0.00 98033.00   \n",
       "50%       7.00     1560.00           0.00   1975.00          0.00 98065.00   \n",
       "75%       8.00     2210.00         560.00   1997.00          0.00 98118.00   \n",
       "max      13.00     9410.00        4820.00   2015.00       2015.00 98199.00   \n",
       "\n",
       "           lat     long  sqft_living15  sqft_lot15  \n",
       "count 21613.00 21613.00       21613.00    21613.00  \n",
       "mean     47.56  -122.21        1986.55    12768.46  \n",
       "std       0.14     0.14         685.39    27304.18  \n",
       "min      47.16  -122.52         399.00      651.00  \n",
       "25%      47.47  -122.33        1490.00     5100.00  \n",
       "50%      47.57  -122.23        1840.00     7620.00  \n",
       "75%      47.68  -122.12        2360.00    10083.00  \n",
       "max      47.78  -121.31        6210.00   871200.00  "
      ]
     },
     "execution_count": 7,
     "metadata": {},
     "output_type": "execute_result"
    }
   ],
   "source": [
    "df.describe().iloc[:,10:]"
   ]
  },
  {
   "cell_type": "markdown",
   "metadata": {},
   "source": [
    "See the general statistics of dthe dataset for the last 10 columns"
   ]
  },
  {
   "cell_type": "markdown",
   "metadata": {},
   "source": [
    "In this dataset, the target variable is price, the rest are features that could contribute to the price. \n",
    "\n",
    "Notice that ome features are similar, so removing repeated features are necessary.\n",
    "\n",
    "First, id and date are not a feature that contributes to house price, so ID should be removed. \n",
    "\n",
    "sqft_living and sqft_living15 are similar, so we keep one of them is good enough. Similar to sqft_lot and sqft_lot15.\n",
    "\n",
    "lat and long are also related to zipcode, keep zipcode should be good enough.\n"
   ]
  },
  {
   "cell_type": "markdown",
   "metadata": {},
   "source": [
    "Let's first visually explore the data."
   ]
  },
  {
   "cell_type": "code",
   "execution_count": 8,
   "metadata": {},
   "outputs": [
    {
     "data": {
      "image/png": "[encoded data removed]",
      "text/plain": [
       "<Figure size 720x144 with 2 Axes>"
      ]
     },
     "metadata": {
      "needs_background": "light"
     },
     "output_type": "display_data"
    }
   ],
   "source": [
    "ax = plt.figure(figsize=(10, 2)).gca()\n",
    "df.plot.hexbin(x = 'yr_built', y = 'price', gridsize = 20,ax=ax)\n",
    "ax.set_xlabel('Year built')\n",
    "ax.set_ylim(-100000,2000000)\n",
    "ax.set_title('Relationship between building years and price');\n"
   ]
  },
  {
   "cell_type": "markdown",
   "metadata": {},
   "source": [
    "In hexbin plot, we can learn that:\n",
    "\n",
    "Houses around and below 50,000 dollars are polpular in the market.\n",
    "Newer houses are generally more popular in the market. (House built after 1940s)"
   ]
  },
  {
   "cell_type": "markdown",
   "metadata": {},
   "source": [
    "We also need to take house remodeling into account.It would be interesting to know whether renovation would help increase the pricing of the house."
   ]
  },
  {
   "cell_type": "code",
   "execution_count": 9,
   "metadata": {},
   "outputs": [
    {
     "name": "stderr",
     "output_type": "stream",
     "text": [
      "C:\\Users\\zhuoy\\anaconda3\\lib\\site-packages\\pandas\\core\\indexing.py:844: SettingWithCopyWarning: \n",
      "A value is trying to be set on a copy of a slice from a DataFrame.\n",
      "Try using .loc[row_indexer,col_indexer] = value instead\n",
      "\n",
      "See the caveats in the documentation: https://pandas.pydata.org/pandas-docs/stable/user_guide/indexing.html#returning-a-view-versus-a-copy\n",
      "  self.obj[key] = _infer_fill_value(value)\n",
      "C:\\Users\\zhuoy\\anaconda3\\lib\\site-packages\\pandas\\core\\indexing.py:965: SettingWithCopyWarning: \n",
      "A value is trying to be set on a copy of a slice from a DataFrame.\n",
      "Try using .loc[row_indexer,col_indexer] = value instead\n",
      "\n",
      "See the caveats in the documentation: https://pandas.pydata.org/pandas-docs/stable/user_guide/indexing.html#returning-a-view-versus-a-copy\n",
      "  self.obj[item] = s\n"
     ]
    },
    {
     "data": {
      "image/png": "[encoded data removed]",
      "text/plain": [
       "<Figure size 864x576 with 1 Axes>"
      ]
     },
     "metadata": {
      "needs_background": "light"
     },
     "output_type": "display_data"
    }
   ],
   "source": [
    "#group year built, year_remodel, and price via averaged values.\n",
    "remodels = df[['yr_built', 'yr_renovated','price','sqft_living15']]\n",
    "#use count to indicate whether the house have been renovated, 1 stands for yes, 0 means no.\n",
    "remodels.loc[:,'remodel'] = np.where(remodels['yr_renovated'] != 0, 1, 0)\n",
    "\n",
    "ax = plt.figure(figsize=(12, 8)).gca()\n",
    "#only plotting the first 700 observations to avoid overplotting\n",
    "sns.scatterplot(remodels['yr_built'][:700], remodels['price'][:700], hue=remodels['remodel'][:700],\n",
    "                alpha =0.3, s=remodels['sqft_living15']/10)\n",
    "ax.set_xlabel('Year Built')\n",
    "ax.set_ylabel('Price')\n",
    "ax.set_title('prices variation on building years \\n' +\n",
    "            'color indicates renovation \\n ' +\n",
    "            'size indicates living area');"
   ]
  },
  {
   "cell_type": "markdown",
   "metadata": {},
   "source": [
    "In this remodeling scatter plot, we can learn that:\n",
    "\n",
    "1. It's hard to tell whether remodeling has impact on house pricing because there are other factors contribute to it.\n",
    "2. Remodeling occures more commonly in old houses (built before 1960s)\n",
    "\n",
    "This reminds me that renovation might not a major contributor to price, which could be removed for later model training."
   ]
  },
  {
   "cell_type": "markdown",
   "metadata": {},
   "source": [
    "Next step, I group year_built, we can see how price changes along with time, with the changes of living area.Prices and living areas are averaged.Also, I want to consider briefly location effect, so zipcodes are averaged."
   ]
  },
  {
   "cell_type": "code",
   "execution_count": 10,
   "metadata": {},
   "outputs": [
    {
     "data": {
      "image/png": "[encoded data removed]",
      "text/plain": [
       "<Figure size 864x576 with 2 Axes>"
      ]
     },
     "metadata": {
      "needs_background": "light"
     },
     "output_type": "display_data"
    }
   ],
   "source": [
    "fig = plt.figure(figsize=(12,8))\n",
    "year_zip = df[['price','zipcode','yr_built','sqft_living15']].groupby(['yr_built']).agg(np.mean)\n",
    "f1=plt.scatter(year_zip.index, year_zip['price'], c=year_zip['zipcode'], \n",
    "               s = year_zip['sqft_living15']/10, cmap='copper', alpha=0.6)\n",
    "plt.colorbar(f1)\n",
    "plt.xlabel('year built')\n",
    "plt.ylabel('price')\n",
    "plt.title('Relationship between price and year built \\n' +\n",
    "         'color indicates the location \\n'+\n",
    "         'size of spots indicates the living area(10X smaller than actual size) ');"
   ]
  },
  {
   "cell_type": "markdown",
   "metadata": {},
   "source": [
    "In this scatter plot, we can see that:\n",
    "1. It's quite surprising that price is not monotonically increased along with time. Due to currency inflation, I thought that price would be increased for the same house along with time. It turns out many factors could have impact on house pricing.\n",
    "\n",
    "2. By introducing the location of a hourse to the figure, we found that houses that are built after 1960s are in regions 98100 and before. In this region, the newer the house is, the higher price it is. In the region of 98100 and beyond, houses are much older, but still yield high prices, suggesting that these areas have some other external factors that affect the price, like school district, or shopping center. \n",
    "\n",
    "3. Size of the spots are living areas of houses. It's hard to tell the difference in this figure though. (see next plot)"
   ]
  },
  {
   "cell_type": "markdown",
   "metadata": {},
   "source": [
    "Next, I want to see how exact location affects house pricing, combined the effect of living area. I group the data using zipcode, and average out price and living area."
   ]
  },
  {
   "cell_type": "code",
   "execution_count": 11,
   "metadata": {},
   "outputs": [
    {
     "data": {
      "image/png": "[encoded data removed]",
      "text/plain": [
       "<Figure size 720x576 with 2 Axes>"
      ]
     },
     "metadata": {
      "needs_background": "light"
     },
     "output_type": "display_data"
    }
   ],
   "source": [
    "zipcode_group = df[['zipcode', 'price', 'sqft_living15', \n",
    "                    'sqft_lot15', 'condition']].groupby('zipcode').agg(np.median)\n",
    "\n",
    "fig = plt.figure(figsize=(10,8))\n",
    "im3=plt.scatter(zipcode_group.index, zipcode_group['price'], c =zipcode_group['sqft_living15'], \n",
    "                    s = zipcode_group['sqft_lot15']/100 ,alpha=0.8, cmap='bwr')\n",
    "plt.axvline(np.mean(zipcode_group.index)+ 23, color='green', linestyle ='--')\n",
    "plt.colorbar(im3)\n",
    "plt.xlabel('ZipCode')\n",
    "plt.ylabel('Price')\n",
    "plt.title('Location effect on Price \\n' +\n",
    "         'living area of house is represented by color \\n' + \n",
    "         'lot area is represented by size');"
   ]
  },
  {
   "cell_type": "markdown",
   "metadata": {},
   "source": [
    "Combined two scatter plots, we can learn that:\n",
    "1. From scatter plot \"Relationship between price and year built\", we've learned that houses that built before 98100 regions are built after 1960s (approximately), and are more expensive. Combined with this scatter plot 'Location effect on Price', the first half of x-axis are new houses (after 1960s), the second half would be old houses. In this case, we can confirm that houses are built larger along with time (Spots are larger in the first half).\n",
    "\n",
    "2. Combined theses two scatter plots, we can see that lands are more valuable in the zipcode 98100 and beyond. (Smaller and older houses, but they still yield similar prices compared to larger and newer and hourses) \n",
    "\n",
    "3. In general, in nearby neighborhood, larger houses (larger living areas) are more expensive (more reds and light blues in higher y-axis) \n",
    "\n",
    "4. Lot size is not linearly related to living size."
   ]
  },
  {
   "cell_type": "markdown",
   "metadata": {},
   "source": [
    "Another important factor contribute to house pricing is surrounding environment.\n",
    "\n",
    "Below, I plot the prices vs waterfront features and condictions of the house."
   ]
  },
  {
   "cell_type": "code",
   "execution_count": 12,
   "metadata": {},
   "outputs": [
    {
     "data": {
      "image/png": "[encoded data removed]",
      "text/plain": [
       "<Figure size 864x576 with 1 Axes>"
      ]
     },
     "metadata": {
      "needs_background": "light"
     },
     "output_type": "display_data"
    }
   ],
   "source": [
    "fig = plt.figure(figsize=(12,8))\n",
    "im2 = sns.boxplot(df['waterfront'], df['price'], hue=df['condition'])\n",
    "plt.legend(loc='center left', bbox_to_anchor=(1, 0.5))\n",
    "plt.xlabel('waterfront \\n' +\n",
    "           '0 means NOT waterfront')\n",
    "plt.title('Floors effect on price \\n '+\n",
    "         'condictions are represented by colors');"
   ]
  },
  {
   "cell_type": "markdown",
   "metadata": {},
   "source": [
    "In this box plot, we can see that:\n",
    "\n",
    "1. When comparing non-waterfront and waterfront hourses at the same house condition (color),there's a significant difference on price. Waterfront house are more expensive than not-waterfront house. \n",
    "2. Within the non-waterfront observations, houses with better conditions yield higher prices. \n",
    "3. In the waterfront observations, there is only a few bad condition houses. Most of them are in a good condition. However, the price is not greatly impacted by condition."
   ]
  },
  {
   "cell_type": "markdown",
   "metadata": {},
   "source": [
    "##### Summary on how features affect house pricing:\n",
    "\n",
    "1. Waterfront price is more expensive than non-waterfront house.\n",
    "2. For houses whose zipcode beyond 98100 are smaller and older, but the price is relatively the same to those houses that were built in recent decades with larger living areas. Both location and living areas have major contributions to house pricing.\n",
    "3. In the same (or nearby) neighborhood, larger living areas results in higher price."
   ]
  },
  {
   "cell_type": "markdown",
   "metadata": {},
   "source": [
    "#### Use  statistical  analysis method to test significance of different categories\n"
   ]
  },
  {
   "cell_type": "markdown",
   "metadata": {},
   "source": [
    "First, study the distribution of some features.\n",
    "\n",
    "Price is our target varible, so study price first."
   ]
  },
  {
   "cell_type": "code",
   "execution_count": 13,
   "metadata": {},
   "outputs": [
    {
     "data": {
      "text/plain": [
       "0"
      ]
     },
     "execution_count": 13,
     "metadata": {},
     "output_type": "execute_result"
    }
   ],
   "source": [
    "df['price'].isnull().sum()"
   ]
  },
  {
   "cell_type": "markdown",
   "metadata": {},
   "source": [
    "There is no missing values in price. We can contiune our analysis "
   ]
  },
  {
   "cell_type": "code",
   "execution_count": 14,
   "metadata": {},
   "outputs": [],
   "source": [
    "#create log price\n",
    "df['log price'] = np.log(df['price'])"
   ]
  },
  {
   "cell_type": "code",
   "execution_count": 15,
   "metadata": {},
   "outputs": [
    {
     "data": {
      "image/png": "[encoded data removed]",
      "text/plain": [
       "<Figure size 432x432 with 2 Axes>"
      ]
     },
     "metadata": {
      "needs_background": "light"
     },
     "output_type": "display_data"
    }
   ],
   "source": [
    "def qq_plot(vec1, vec2):\n",
    "    import scipy.stats as ss\n",
    "    plt.figure(figsize=(6, 6)).gca() # define axis\n",
    "    ax1 = plt.subplot(221) ## setup the left subplot\n",
    "    ss.probplot(vec1, plot = ax1) ## Plot the left subplot\n",
    "    ax1 = plt.subplot(222) ## Set up the right subplot\n",
    "    ss.probplot(vec2, plot = ax1) ## Plot the right subplot\n",
    "    \n",
    "qq_plot(df['price'],df['log price'])"
   ]
  },
  {
   "cell_type": "markdown",
   "metadata": {},
   "source": [
    "Q-Q plots for price(left) and log price(right) are shown above. By eyes, log price is more straight than price, suggesting that log price could be more approaching normal than price.\n",
    "\n",
    "We need to do a further test to evaluate that. K-S test could be used.And we need to standardized samples before applying the K-S test."
   ]
  },
  {
   "cell_type": "code",
   "execution_count": 16,
   "metadata": {},
   "outputs": [],
   "source": [
    "#standardize both price and log price\n",
    "n_p = scale(df['price'])\n",
    "n_lp = scale(df['log price'])"
   ]
  },
  {
   "cell_type": "code",
   "execution_count": 17,
   "metadata": {},
   "outputs": [
    {
     "name": "stdout",
     "output_type": "stream",
     "text": [
      "KS-statistic for price = 0.1457271152901709\n",
      "P-value for price= 0.0\n",
      "KS-statistic for log price = 0.025988070503970062\n",
      "P-value for log price= 4.1903563850987136e-13\n"
     ]
    }
   ],
   "source": [
    "def ks_test(dat, name, dist = 'norm'):\n",
    "    from scipy.stats import kstest \n",
    "    ks_statisic, pvalue = kstest(dat, dist)\n",
    "    print('KS-statistic for '+ name + ' = ' + str(ks_statisic))\n",
    "    print('P-value for ' + name + '= ' + str(pvalue))\n",
    "    \n",
    "ks_test(n_p, 'price')    \n",
    "ks_test(n_lp, 'log price')  "
   ]
  },
  {
   "cell_type": "markdown",
   "metadata": {},
   "source": [
    "The null hypothesis for K-S test is two distributions have no differece.With p-value greater than threshold (0.05) suggesting that we cannot reject hypothesis, so there is no difference between two samples.\n",
    "\n",
    "Based on the statitics, both p-values smaller than the classic 0.05 threshold, suggesting we can reject the null hypothesis in both cases.\n",
    "\n",
    "Notice that p-value for price is very small, resulting in zero p-value. In this case, we would say log-price has a higher p-value.\n",
    "\n",
    "If we set threshold alpha smaller, in this case, we cannot reject the hypothesis for log price, suggesting that log price has no difference to normal distribution. \n",
    "###### Thus, log price can be better represented as a normal distribution."
   ]
  },
  {
   "cell_type": "markdown",
   "metadata": {},
   "source": [
    "We're also interested in other features, such as living areas. From our graphically analysis, it's likely that larger living areas usually yields higher prices."
   ]
  },
  {
   "cell_type": "code",
   "execution_count": 18,
   "metadata": {},
   "outputs": [
    {
     "data": {
      "image/png": "[encoded data removed]",
      "text/plain": [
       "<Figure size 432x432 with 2 Axes>"
      ]
     },
     "metadata": {
      "needs_background": "light"
     },
     "output_type": "display_data"
    }
   ],
   "source": [
    "df['log sqft_living15'] = np.log(df['sqft_living15'])\n",
    "qq_plot(df['sqft_living15'],df['log sqft_living15'])"
   ]
  },
  {
   "cell_type": "markdown",
   "metadata": {},
   "source": [
    "Q-Q plots for living area(left) and log living(right) are shown above. By eyes, log living area is more straight than living, suggesting that log living area could be more approaching normal than living area.\n",
    "\n",
    "We need to do a further test to evaluate that. K-S test could be used.And we need to standardized samples before applying the K-S test."
   ]
  },
  {
   "cell_type": "code",
   "execution_count": 19,
   "metadata": {},
   "outputs": [
    {
     "name": "stdout",
     "output_type": "stream",
     "text": [
      "KS-statistic for sqft_living15 = 0.08899657693186064\n",
      "P-value for sqft_living15= 4.102175311946372e-149\n",
      "\n",
      "\n",
      "KS-statistic for log sqft_living15 = 0.03434275347812166\n",
      "P-value for log sqft_living15= 1.445140332506786e-22\n"
     ]
    }
   ],
   "source": [
    "#standardize both price and log price\n",
    "n_living = scale(df['sqft_living15'])\n",
    "n_logliving = scale(df['log sqft_living15'])\n",
    "ks_test(n_living, 'sqft_living15')\n",
    "print('\\n')\n",
    "ks_test(n_logliving, 'log sqft_living15')"
   ]
  },
  {
   "cell_type": "markdown",
   "metadata": {},
   "source": [
    "Based on the statitics, both p-values smaller than the classic 0.05 threshold, suggesting we can reject the null hypothesis in both cases.\n",
    "log sqft_living15 has a greater p-value, meanging that we set a smaller alpha value, log living area cannot reject the null hypothesis, suggesting that log living area would be better represented by normal distribution.\n"
   ]
  },
  {
   "cell_type": "markdown",
   "metadata": {},
   "source": [
    "Let's eplore lot areas as well."
   ]
  },
  {
   "cell_type": "code",
   "execution_count": 20,
   "metadata": {},
   "outputs": [
    {
     "data": {
      "image/png": "[encoded data removed]",
      "text/plain": [
       "<Figure size 432x432 with 2 Axes>"
      ]
     },
     "metadata": {
      "needs_background": "light"
     },
     "output_type": "display_data"
    }
   ],
   "source": [
    "df['log sqft_lot15'] = np.log(df['sqft_lot15'])\n",
    "qq_plot(df['sqft_lot15'],df['log sqft_lot15'])"
   ]
  },
  {
   "cell_type": "markdown",
   "metadata": {},
   "source": [
    "Q-Q plots for lot area(left) and log lot (right) are shown above. By eyes, log lot area is more straight than lot area, suggesting that log lot area could be more approaching normal than living area.\n",
    "\n",
    "We need to do a further test to evaluate that. K-S test could be used.And we need to standardized samples before applying the K-S test."
   ]
  },
  {
   "cell_type": "code",
   "execution_count": 21,
   "metadata": {},
   "outputs": [
    {
     "name": "stdout",
     "output_type": "stream",
     "text": [
      "KS-statistic for sqft_lot15 = 0.34730875317878596\n",
      "P-value for sqft_lot15= 0.0\n",
      "\n",
      "\n",
      "KS-statistic for log sqft_lot15 = 0.134221083567987\n",
      "P-value for log sqft_lot15= 0.0\n"
     ]
    }
   ],
   "source": [
    "#standardize both price and log price\n",
    "n_lot= scale(df['sqft_lot15'])\n",
    "n_loglot = scale(df['log sqft_lot15'])\n",
    "ks_test(n_lot, 'sqft_lot15')\n",
    "print('\\n')\n",
    "ks_test(n_loglot, 'log sqft_lot15')"
   ]
  },
  {
   "cell_type": "markdown",
   "metadata": {},
   "source": [
    "Interestingly, both p-value are very small. But ks-value is higher for lot area, implying a better fit to normal distritbuion. In this case, lot area is better represented by normal distribution."
   ]
  },
  {
   "cell_type": "markdown",
   "metadata": {},
   "source": [
    "#### Next, we can study categorical variables using pair and multipopulation comparisons.\n",
    "For below analysis, I use classical method to test significance of price by bedrooms, water front, condition, and floors. \n",
    "\n",
    "This would be a good analysis to see whether a feature contributes to price."
   ]
  },
  {
   "cell_type": "code",
   "execution_count": 22,
   "metadata": {},
   "outputs": [
    {
     "name": "stdout",
     "output_type": "stream",
     "text": [
      "Bedrooms:  [ 3  2  4  5  1  6  7  0  8  9 11 10 33]\n",
      "waterfront:  [0 1]\n",
      "condition:  [3 5 4 1 2]\n",
      "Floors:  [1.  2.  1.5 3.  2.5 3.5]\n"
     ]
    }
   ],
   "source": [
    "#check whether the category is pair comparison or multipopulation comparison.\n",
    "print('Bedrooms: ', df['bedrooms'].unique())\n",
    "print('waterfront: ', df['waterfront'].unique())\n",
    "print('condition: ', df['condition'].unique())\n",
    "print('Floors: ', df['floors'].unique())"
   ]
  },
  {
   "cell_type": "markdown",
   "metadata": {},
   "source": [
    "#### Waterfront is good for pair comparion. "
   ]
  },
  {
   "cell_type": "code",
   "execution_count": 23,
   "metadata": {},
   "outputs": [
    {
     "name": "stdout",
     "output_type": "stream",
     "text": [
      "total w0 smaples: 21450\n",
      "total samples: 21613\n"
     ]
    }
   ],
   "source": [
    "w0 =pd.DataFrame()\n",
    "w1 = pd.DataFrame()\n",
    "# fuel[['fuel', 'price']] = df[['fuel-type','price']]\n",
    "print ( 'total w0 smaples:' ,sum(df['waterfront'] == 0))\n",
    "print('total samples:' ,df.shape[0])"
   ]
  },
  {
   "cell_type": "markdown",
   "metadata": {},
   "source": [
    "It's surprising that it's a heavily unbalanced sample. T-test is required to have balanced sample. So I am going to use bernoulli sampling to make a balanaced sample set.\n",
    "\n",
    "And from previous analysis, log price is better represented as normal distritution. So log price is used for the rest of analysis."
   ]
  },
  {
   "cell_type": "code",
   "execution_count": 24,
   "metadata": {},
   "outputs": [],
   "source": [
    "# put samples into correponding dataframe\n",
    "w0['price']=df[df['waterfront'] == 0]['log price']\n",
    "w1['price']=df[df['waterfront'] == 1]['log price']\n",
    "\n",
    "\n",
    "#  Bernoulli sampling\n",
    "p = 0.1\n",
    "w0_sample = w0.iloc[nr.choice(range(w0.shape[0]), size = int(p * w1.shape[0]*10)), :]"
   ]
  },
  {
   "cell_type": "code",
   "execution_count": 25,
   "metadata": {},
   "outputs": [
    {
     "data": {
      "image/png": "[encoded data removed]",
      "text/plain": [
       "<Figure size 432x288 with 2 Axes>"
      ]
     },
     "metadata": {
      "needs_background": "light"
     },
     "output_type": "display_data"
    }
   ],
   "source": [
    "def hist_plot(vec, bins):\n",
    "    from statistics import mean\n",
    "    plt.hist(vec, bins = bins)\n",
    "    plt.axvline(mean(vec), color = 'red')\n",
    "    plt.ylabel('Frequency')\n",
    "    plt.xlabel('Value')\n",
    "    \n",
    "def plot_pop(a, b, cols=['gas', 'diesel'], nbins = 20):\n",
    "    minx = min([min(a), min(b)])\n",
    "    maxx = max([max(a), max(b)])\n",
    "    stepx = (maxx - minx)/(nbins + 1)\n",
    "    bins = [minx + i * stepx for i in range(nbins + 1)]\n",
    "    plt.subplot(2, 1, 1) # The first plot\n",
    "    hist_plot(a, bins)\n",
    "    plt.title('Histograme of ' + cols[0] + ' and ' + cols[1])\n",
    "    plt.subplot(2, 1, 2) # The next plot\n",
    "    hist_plot(b, bins)\n",
    "\n",
    "plot_pop(w0_sample['price'], w1['price'])    "
   ]
  },
  {
   "cell_type": "markdown",
   "metadata": {},
   "source": [
    "These two histograms show bell shape distributions with differetn means. The general distribution shape is quite similar, however, waterfront price has a wider spread. To find the actual difference between these two distributions need t-test."
   ]
  },
  {
   "cell_type": "code",
   "execution_count": 26,
   "metadata": {},
   "outputs": [
    {
     "data": {
      "text/plain": [
       "DegFreedom   294.82\n",
       "Difference    -1.01\n",
       "Statistic    -15.23\n",
       "PValue         0.00\n",
       "Low95CI       -1.14\n",
       "High95CI      -0.88\n",
       "dtype: float64"
      ]
     },
     "execution_count": 26,
     "metadata": {},
     "output_type": "execute_result"
    }
   ],
   "source": [
    "def t_test(a, b, alpha, alternative='two-sided'):\n",
    "    from scipy import stats\n",
    "    import scipy.stats as ss\n",
    "    import statsmodels.stats.weightstats as ws\n",
    "    \n",
    "    diff = a.mean() - b.mean()\n",
    "\n",
    "    res = ss.ttest_ind(a, b, equal_var=False)\n",
    "      \n",
    "    means = ws.CompareMeans(ws.DescrStatsW(a), ws.DescrStatsW(b))\n",
    "    confint = means.tconfint_diff(alpha=alpha, \n",
    "                                  alternative=alternative, usevar='unequal') \n",
    "    degfree = means.dof_satt()\n",
    "\n",
    "    index = ['DegFreedom', 'Difference', 'Statistic', \n",
    "             'PValue', 'Low95CI', 'High95CI']\n",
    "    return pd.Series([degfree, diff, res[0], res[1],\n",
    "                      confint[0], confint[1]], index = index)   \n",
    "   \n",
    "\n",
    "waterfront = t_test(w0_sample['price'], w1['price'], 0.05)\n",
    "waterfront"
   ]
  },
  {
   "cell_type": "markdown",
   "metadata": {},
   "source": [
    "From stats: p-value is very small, zero, suggesting that we can reject the null hypothesis, price for house has waterfront is different than has no waterfront. So waterfront should be a feature when trainning the model. "
   ]
  },
  {
   "cell_type": "markdown",
   "metadata": {},
   "source": [
    "#### Next, study the comparisons for bedrooms"
   ]
  },
  {
   "cell_type": "code",
   "execution_count": 27,
   "metadata": {},
   "outputs": [
    {
     "data": {
      "text/plain": [
       "array([ 3,  2,  4,  5,  1,  6,  7,  0,  8,  9, 11, 10, 33], dtype=int64)"
      ]
     },
     "execution_count": 27,
     "metadata": {},
     "output_type": "execute_result"
    }
   ],
   "source": [
    "df['bedrooms'].unique()"
   ]
  },
  {
   "cell_type": "markdown",
   "metadata": {},
   "source": [
    "There are many variables in bedrooms, we can select a few of them to do comparisons, 1, 3, 5, and 7 bedrooms would be good enough for analysis."
   ]
  },
  {
   "cell_type": "code",
   "execution_count": 28,
   "metadata": {},
   "outputs": [],
   "source": [
    "#creating dataframe for each categories\n",
    "oneb = pd.DataFrame()\n",
    "threeb = pd.DataFrame()\n",
    "fiveb = pd.DataFrame()\n",
    "sevenb = pd.DataFrame()\n",
    "\n",
    "oneb ['price'] = df[df['bedrooms'] == 1]['log price']\n",
    "threeb ['price'] = df[df['bedrooms'] == 3]['log price']\n",
    "fiveb ['price'] = df[df['bedrooms'] == 5]['log price']\n",
    "sevenb ['price'] = df[df['bedrooms'] == 7]['log price']"
   ]
  },
  {
   "cell_type": "code",
   "execution_count": 29,
   "metadata": {},
   "outputs": [
    {
     "data": {
      "image/png": "[encoded data removed]",
      "text/plain": [
       "<Figure size 432x288 with 1 Axes>"
      ]
     },
     "metadata": {
      "needs_background": "light"
     },
     "output_type": "display_data"
    }
   ],
   "source": [
    "fig = plt.figure()\n",
    "ax = fig.add_subplot(111)\n",
    "ax.boxplot([oneb['price'], threeb['price'], fiveb['price'], sevenb['price']])\n",
    "plt.ylabel('Log Price')\n",
    "ax.set_xticklabels(['one-b', 'three-b','five-b','seven-b'], rotation = 'vertical')\n",
    "plt.xlabel('Variable')\n",
    "plt.title('Box plot of bedrooms variables');"
   ]
  },
  {
   "cell_type": "markdown",
   "metadata": {},
   "source": [
    "The plot shows variation between the distributions of the four variables. They are closed to each other, while we can see that seven badrooms are appparently more expensive than one bedromms house. \n",
    "Nest, we need to compute F-statistic and a p-value using `f_oneway` function"
   ]
  },
  {
   "cell_type": "code",
   "execution_count": 30,
   "metadata": {},
   "outputs": [
    {
     "name": "stdout",
     "output_type": "stream",
     "text": [
      "F statistic = 472.082445863569\n",
      "P-value = 1.6278555902726796e-289\n"
     ]
    }
   ],
   "source": [
    "f_statistic, p_value = ss.f_oneway(oneb['price'], threeb['price'], fiveb['price'], sevenb['price'])\n",
    "print('F statistic = ' + str(f_statistic))\n",
    "print('P-value = ' + str(p_value))"
   ]
  },
  {
   "cell_type": "markdown",
   "metadata": {},
   "source": [
    "The F statistic is fairly large and the p-value is small. We can reject the null hypothesis that the 4 variables have the same mean, as the probability of the differences arising from random chance is quite low.\n",
    "\n",
    "From the above ANOVA results we know that there is some difference in the means of these variables. However, the ANOVA does not tell us which variable is significantly different. So we need to perform HSD test."
   ]
  },
  {
   "cell_type": "code",
   "execution_count": 31,
   "metadata": {},
   "outputs": [
    {
     "name": "stdout",
     "output_type": "stream",
     "text": [
      "Multiple Comparison of Means - Tukey HSD, FWER=0.05\n",
      "===================================================\n",
      "group1 group2 meandiff p-adj  lower   upper  reject\n",
      "---------------------------------------------------\n",
      " fiveb   oneb  -0.8258 0.001 -0.9191 -0.7324   True\n",
      " fiveb sevenb    0.158 0.191 -0.0458  0.3619  False\n",
      " fiveb threeb  -0.4526 0.001  -0.486 -0.4191   True\n",
      "  oneb sevenb   0.9838 0.001   0.764  1.2037   True\n",
      "  oneb threeb   0.3732 0.001  0.2843  0.4621   True\n",
      "sevenb threeb  -0.6106 0.001 -0.8125 -0.4087   True\n",
      "---------------------------------------------------\n"
     ]
    }
   ],
   "source": [
    "from statsmodels.stats.multicomp import pairwise_tukeyhsd\n",
    "df2 = pd.DataFrame({'vals' :oneb['price'].tolist() + \n",
    "                    threeb['price'].tolist() +\n",
    "                   fiveb['price'].tolist() + sevenb['price'].tolist(),\n",
    "                   'group_num': ['oneb'] * len(oneb) + ['threeb'] * len(threeb) + \n",
    "                    ['fiveb'] * len(fiveb) +\n",
    "                   ['sevenb'] * len(sevenb)  })\n",
    "Tukey_HSD = pairwise_tukeyhsd(df2.vals, df2.group_num)\n",
    "print(Tukey_HSD)"
   ]
  },
  {
   "cell_type": "markdown",
   "metadata": {},
   "source": [
    "From the table, we can see whether there is significant difference based on p-values and the reject column. Most of them have difference between pairs (label as 'True'). So bedrooms also plays a role in house pricing. "
   ]
  },
  {
   "cell_type": "markdown",
   "metadata": {},
   "source": [
    "#### Next, study condition"
   ]
  },
  {
   "cell_type": "code",
   "execution_count": 32,
   "metadata": {},
   "outputs": [
    {
     "data": {
      "text/plain": [
       "array([3, 5, 4, 1, 2], dtype=int64)"
      ]
     },
     "execution_count": 32,
     "metadata": {},
     "output_type": "execute_result"
    }
   ],
   "source": [
    "df['condition'].unique()"
   ]
  },
  {
   "cell_type": "markdown",
   "metadata": {},
   "source": [
    "Again, we can choose three to do comparions, 1, 3, and 5"
   ]
  },
  {
   "cell_type": "code",
   "execution_count": 33,
   "metadata": {},
   "outputs": [],
   "source": [
    "#create dataframes for each category\n",
    "onec = pd.DataFrame()\n",
    "threec = pd.DataFrame()\n",
    "fivec = pd.DataFrame()\n",
    "\n",
    "\n",
    "onec ['price'] = df[df['condition'] == 1]['log price']\n",
    "threec ['price'] = df[df['condition'] == 3]['log price']\n",
    "fivec ['price'] = df[df['condition'] == 5]['log price']"
   ]
  },
  {
   "cell_type": "code",
   "execution_count": 88,
   "metadata": {},
   "outputs": [
    {
     "data": {
      "image/png": "[encoded data removed]",
      "text/plain": [
       "<Figure size 432x288 with 1 Axes>"
      ]
     },
     "metadata": {
      "needs_background": "light"
     },
     "output_type": "display_data"
    }
   ],
   "source": [
    "fig = plt.figure()\n",
    "ax = fig.add_subplot(111)\n",
    "ax.boxplot([onec['price'], threec['price'], fivec['price']])\n",
    "plt.ylabel('Log Price')\n",
    "ax.set_xticklabels(['one-c', 'three-c','five-c'], rotation = 'vertical')\n",
    "plt.xlabel('Variable')\n",
    "plt.title('Box plot of condition variables');"
   ]
  },
  {
   "cell_type": "markdown",
   "metadata": {},
   "source": [
    "The plot shows variation between the distributions of the four variables.  Outliners exist, especially in condition of three houses. Next, we need to compute F-statistic and a p-value using `f_oneway` function"
   ]
  },
  {
   "cell_type": "code",
   "execution_count": 35,
   "metadata": {},
   "outputs": [
    {
     "name": "stdout",
     "output_type": "stream",
     "text": [
      "F statistic = 47.135207923172075\n",
      "P-value = 3.894248919200621e-21\n"
     ]
    }
   ],
   "source": [
    "f_statistic, p_value = ss.f_oneway(onec['price'], threec['price'], fivec['price'])\n",
    "print('F statistic = ' + str(f_statistic))\n",
    "print('P-value = ' + str(p_value))"
   ]
  },
  {
   "cell_type": "markdown",
   "metadata": {},
   "source": [
    "The F statistic is fairly large and the p-value is small. We can reject the null hypothesis that the 4 variables have the same mean, as the probability of the differences arising from random chance is quite low.\n",
    "\n",
    "From the above ANOVA results we know that there is some difference in the means of these variables. However, the ANOVA does not tell us which variable is significantly different. So we need to perform HSD test."
   ]
  },
  {
   "cell_type": "code",
   "execution_count": 36,
   "metadata": {},
   "outputs": [
    {
     "name": "stdout",
     "output_type": "stream",
     "text": [
      "Multiple Comparison of Means - Tukey HSD, FWER=0.05\n",
      "===================================================\n",
      "group1 group2 meandiff p-adj  lower   upper  reject\n",
      "---------------------------------------------------\n",
      " fivec   onec   -0.667 0.001 -0.8923 -0.4418   True\n",
      " fivec threec  -0.1018 0.001 -0.1332 -0.0704   True\n",
      "  onec threec   0.5652 0.001  0.3417  0.7888   True\n",
      "---------------------------------------------------\n"
     ]
    }
   ],
   "source": [
    "from statsmodels.stats.multicomp import pairwise_tukeyhsd\n",
    "df2 = pd.DataFrame({'vals' :onec['price'].tolist() + \n",
    "                    threec['price'].tolist() +\n",
    "                   fivec['price'].tolist() ,\n",
    "                   'group_num': ['onec'] * len(onec) + ['threec'] * len(threec) + \n",
    "                    ['fivec'] * len(fivec) })\n",
    "Tukey_HSD = pairwise_tukeyhsd(df2.vals, df2.group_num)\n",
    "print(Tukey_HSD)"
   ]
  },
  {
   "cell_type": "markdown",
   "metadata": {},
   "source": [
    "From the table, we can see whether there is significant difference based on p-values and the reject column. All of them have difference between pairs (label as 'True'). So condition plays a role in house pricing."
   ]
  },
  {
   "cell_type": "markdown",
   "metadata": {},
   "source": [
    "#### Next, study floors"
   ]
  },
  {
   "cell_type": "code",
   "execution_count": 37,
   "metadata": {},
   "outputs": [
    {
     "data": {
      "text/plain": [
       "array([1. , 2. , 1.5, 3. , 2.5, 3.5])"
      ]
     },
     "execution_count": 37,
     "metadata": {},
     "output_type": "execute_result"
    }
   ],
   "source": [
    "df['floors'].unique()"
   ]
  },
  {
   "cell_type": "markdown",
   "metadata": {},
   "source": [
    "In this case, I would choose 1, 2, and 3 for comparison."
   ]
  },
  {
   "cell_type": "code",
   "execution_count": 38,
   "metadata": {},
   "outputs": [],
   "source": [
    "#create dataframes for each category\n",
    "onef = pd.DataFrame()\n",
    "twof = pd.DataFrame()\n",
    "threef = pd.DataFrame()\n",
    "\n",
    "\n",
    "onef ['price'] = df[df['floors'] == 1]['log price']\n",
    "twof ['price'] = df[df['floors'] == 2]['log price']\n",
    "threef ['price'] = df[df['floors'] == 3]['log price']"
   ]
  },
  {
   "cell_type": "code",
   "execution_count": 39,
   "metadata": {},
   "outputs": [
    {
     "data": {
      "image/png": "[encoded data removed]",
      "text/plain": [
       "<Figure size 432x288 with 1 Axes>"
      ]
     },
     "metadata": {
      "needs_background": "light"
     },
     "output_type": "display_data"
    }
   ],
   "source": [
    "fig = plt.figure()\n",
    "ax = fig.add_subplot(111)\n",
    "ax.boxplot([onef['price'], twof['price'], threef['price']])\n",
    "plt.ylabel('Log Price')\n",
    "ax.set_xticklabels(['one-f', 'two-f','three-f'], rotation = 'vertical')\n",
    "plt.xlabel('Variable')\n",
    "plt.title('Box plot of floors variables');"
   ]
  },
  {
   "cell_type": "markdown",
   "metadata": {},
   "source": [
    "The plot shows variation between the distributions of the four variables. There are outliners in each condition Nest, we need to compute F-statistic and a p-value using `f_oneway` function"
   ]
  },
  {
   "cell_type": "code",
   "execution_count": 40,
   "metadata": {},
   "outputs": [
    {
     "name": "stdout",
     "output_type": "stream",
     "text": [
      "F statistic = 1252.4759238614874\n",
      "P-value = 0.0\n"
     ]
    }
   ],
   "source": [
    "f_statistic, p_value = ss.f_oneway(onef['price'], twof['price'], threef['price'])\n",
    "print('F statistic = ' + str(f_statistic))\n",
    "print('P-value = ' + str(p_value))"
   ]
  },
  {
   "cell_type": "markdown",
   "metadata": {},
   "source": [
    "The F statistic is fairly large and the p-value is zero. We can reject the null hypothesis that the 4 variables have the same mean, as the probability of the differences arising from random chance is quite low.\n",
    "\n",
    "From the above ANOVA results we know that there is some difference in the means of these variables. However, the ANOVA does not tell us which variable is significantly different. So we need to perform HSD test."
   ]
  },
  {
   "cell_type": "code",
   "execution_count": 41,
   "metadata": {},
   "outputs": [
    {
     "name": "stdout",
     "output_type": "stream",
     "text": [
      "Multiple Comparison of Means - Tukey HSD, FWER=0.05\n",
      "==================================================\n",
      "group1 group2 meandiff p-adj  lower  upper  reject\n",
      "--------------------------------------------------\n",
      "  onef threef   0.2917  0.001 0.2435 0.3398   True\n",
      "  onef   twof   0.3598  0.001 0.3428 0.3768   True\n",
      "threef   twof   0.0681 0.0029 0.0196 0.1167   True\n",
      "--------------------------------------------------\n"
     ]
    }
   ],
   "source": [
    "from statsmodels.stats.multicomp import pairwise_tukeyhsd\n",
    "df2 = pd.DataFrame({'vals' :onef['price'].tolist() + \n",
    "                    twof['price'].tolist() +\n",
    "                   threef['price'].tolist() ,\n",
    "                   'group_num': ['onef'] * len(onef) + ['twof'] * len(twof) + \n",
    "                    ['threef'] * len(threef) })\n",
    "Tukey_HSD = pairwise_tukeyhsd(df2.vals, df2.group_num)\n",
    "print(Tukey_HSD)"
   ]
  },
  {
   "cell_type": "markdown",
   "metadata": {},
   "source": [
    "From the table, we can see whether there is significant difference based on p-values and the reject column. All of them have difference between pairs (label as 'True'). So floors plays a role in house pricing."
   ]
  },
  {
   "cell_type": "markdown",
   "metadata": {},
   "source": [
    "#### Summary for statistical analysis \n",
    "1. log price and log living area are better represented as normal distribution, while lot area is better represented as normal distribution.\n",
    "2. Different categories in waterfront, bedrooms, floors, and condition have difference in price, suggesting that they contribute to house pricing. "
   ]
  },
  {
   "cell_type": "markdown",
   "metadata": {},
   "source": [
    "#### Now, wer can prepare data for trainning.\n",
    "\n",
    "Predicting house price would be a regression problem. "
   ]
  },
  {
   "cell_type": "code",
   "execution_count": 42,
   "metadata": {},
   "outputs": [],
   "source": [
    "#selected features\n",
    "features  = ['log price', 'bedrooms', 'bathrooms', 'floors', 'waterfront',\n",
    "             'view', 'condition', 'grade', 'yr_built',\n",
    "       'zipcode', 'log sqft_living15']\n",
    "# final_df = df[features]"
   ]
  },
  {
   "cell_type": "code",
   "execution_count": 43,
   "metadata": {},
   "outputs": [],
   "source": [
    "#create a new dataframe for first data engineering\n",
    "df2 =pd.DataFrame()\n",
    "df2 = df[features]"
   ]
  },
  {
   "cell_type": "markdown",
   "metadata": {},
   "source": [
    "Most features are categorical data, except log sqft_living15. Let's take care of numerical data first."
   ]
  },
  {
   "cell_type": "code",
   "execution_count": 44,
   "metadata": {},
   "outputs": [
    {
     "data": {
      "text/plain": [
       "0"
      ]
     },
     "execution_count": 44,
     "metadata": {},
     "output_type": "execute_result"
    }
   ],
   "source": [
    "df2['log sqft_living15'].isnull().sum()"
   ]
  },
  {
   "cell_type": "markdown",
   "metadata": {},
   "source": [
    "There's no missing values. \n",
    "\n",
    "Then we can normalize this variable."
   ]
  },
  {
   "cell_type": "code",
   "execution_count": 45,
   "metadata": {},
   "outputs": [],
   "source": [
    "from sklearn.preprocessing import MinMaxScaler\n",
    "import pandas as pd\n",
    "pd.options.mode.chained_assignment = None\n",
    "#normalize numberical category\n",
    "scaler = MinMaxScaler()\n",
    "log_l = pd.DataFrame(df2['log sqft_living15'])\n",
    "normal_living  = scaler.fit_transform(log_l)\n",
    "df2.loc[:,'log sqft_living15']  = normal_living"
   ]
  },
  {
   "cell_type": "markdown",
   "metadata": {},
   "source": [
    "#### Next, we need to encode the cateogrical variables.\n",
    "\n",
    "Based on our previous graphic analysis, we can group yr_built and zipcode first. \n",
    "For yr_built, we can use 1960 as a threshold, before 1960, we categorize as 'old', after 1960, we categorize as 'new'."
   ]
  },
  {
   "cell_type": "code",
   "execution_count": 46,
   "metadata": {},
   "outputs": [],
   "source": [
    "old = df2['yr_built'] <= 1960\n",
    "new = df2['yr_built'] > 1960\n",
    "df2.loc[old,'yr_built'] ='old'\n",
    "df2.loc[new,'yr_built'] ='new'"
   ]
  },
  {
   "cell_type": "markdown",
   "metadata": {},
   "source": [
    "For zipcode, 98100 would be a good seperator. Before 98100, we would categorize 'dt', after 98100, we categorize as 'suburban'. "
   ]
  },
  {
   "cell_type": "code",
   "execution_count": 47,
   "metadata": {},
   "outputs": [],
   "source": [
    "dt = df2['zipcode'] <= 98100\n",
    "suburban = df2['zipcode'] >98100\n",
    "df2.loc[dt, 'zipcode'] = 'dt'\n",
    "df2.loc[suburban, 'zipcode'] = 'suburban'"
   ]
  },
  {
   "cell_type": "code",
   "execution_count": 48,
   "metadata": {},
   "outputs": [],
   "source": [
    "#create a list of categorical variables that needs encode\n",
    "cat_list = ['bedrooms', 'bathrooms', 'floors', 'waterfront',\n",
    "             'view', 'condition','grade', 'yr_built','zipcode']\n",
    "df2 = pd.get_dummies(df2, columns= cat_list)"
   ]
  },
  {
   "cell_type": "markdown",
   "metadata": {},
   "source": [
    "#### Data are cleaned, and are ready to train regression model.\n",
    "Three models are selected:\n",
    "\n",
    "I choose two simple linear regression models, one tree-based model, and one non-linear model.\n",
    "\n",
    "1. linear regression/lasso\n",
    "2. Gradient Boosting Regressor\n",
    "3. SVR (default 'rbf' kernel)\n",
    " "
   ]
  },
  {
   "cell_type": "markdown",
   "metadata": {},
   "source": [
    "First, use linear regression. \n",
    "\n",
    "Split the dataset into training and testing data set."
   ]
  },
  {
   "cell_type": "code",
   "execution_count": 49,
   "metadata": {},
   "outputs": [],
   "source": [
    "from sklearn.linear_model import LinearRegression\n",
    "from sklearn.model_selection import train_test_split\n",
    "#split data set\n",
    "X = df2[df2.columns.values[1:]]\n",
    "y = df2['log price']\n",
    "X_train, X_test, y_train, y_test = train_test_split(X, y, test_size=0.3, random_state=0)"
   ]
  },
  {
   "cell_type": "code",
   "execution_count": 50,
   "metadata": {},
   "outputs": [],
   "source": [
    "#fitting linear regression model and get predicted values\n",
    "lreg = LinearRegression().fit(X_train, y_train)\n",
    "lreg_pre = lreg.predict(X_test)"
   ]
  },
  {
   "cell_type": "code",
   "execution_count": 51,
   "metadata": {},
   "outputs": [
    {
     "name": "stdout",
     "output_type": "stream",
     "text": [
      "Mean squared error: 21982438612577480.000 \n"
     ]
    }
   ],
   "source": [
    "#evaluate regression model using mean_squared_error\n",
    "from sklearn.metrics import mean_squared_error\n",
    "print('Mean squared error: %.3f '%mean_squared_error(y_test, lreg_pre))"
   ]
  },
  {
   "cell_type": "code",
   "execution_count": 52,
   "metadata": {},
   "outputs": [
    {
     "name": "stdout",
     "output_type": "stream",
     "text": [
      "Linear Regression R2: -79746315703558688.000 \n"
     ]
    }
   ],
   "source": [
    "#evaluate regression model using R2\n",
    "from sklearn.metrics import r2_score\n",
    "print('Linear Regression R2: %.3f '%r2_score(y_test, lreg_pre))"
   ]
  },
  {
   "cell_type": "markdown",
   "metadata": {},
   "source": [
    "Linear model fails, it has huge mean sqaured and r2 score. \n",
    "\n",
    "Regularization is required. Since we have many features right now, lasso regression looks like a great chance. "
   ]
  },
  {
   "cell_type": "code",
   "execution_count": 53,
   "metadata": {},
   "outputs": [
    {
     "name": "stdout",
     "output_type": "stream",
     "text": [
      "Mean squared error: 0.276 \n",
      "Lasso Regression R2: -0.000 \n"
     ]
    }
   ],
   "source": [
    "from sklearn import linear_model\n",
    "lasso = linear_model.Lasso(alpha =0.1).fit(X_train, y_train)\n",
    "la_pre = lasso.predict(X_test)\n",
    "print('Mean squared error: %.3f '%mean_squared_error(y_test, la_pre))\n",
    "print('Lasso Regression R2: %.3f '%r2_score(y_test, la_pre))"
   ]
  },
  {
   "cell_type": "markdown",
   "metadata": {},
   "source": [
    "Lasso regression improves a little bit, but still, r2 score is zero. Linear model might not be a good model for these dataset.\n",
    "\n",
    "Next, try gradient boosting and SVR regression model."
   ]
  },
  {
   "cell_type": "code",
   "execution_count": 54,
   "metadata": {},
   "outputs": [
    {
     "name": "stdout",
     "output_type": "stream",
     "text": [
      "Mean squared error: 0.097 \n",
      "Gradien Boosting R2: 0.647 \n"
     ]
    }
   ],
   "source": [
    "from sklearn.ensemble import GradientBoostingRegressor\n",
    "gbr = GradientBoostingRegressor(random_state=0).fit(X_train, y_train)\n",
    "gbr_pre = gbr.predict(X_test)\n",
    "\n",
    "print('Mean squared error: %.3f '%mean_squared_error(y_test, gbr_pre))\n",
    "print('Gradien Boosting R2: %.3f '%r2_score(y_test, gbr_pre))"
   ]
  },
  {
   "cell_type": "code",
   "execution_count": 55,
   "metadata": {},
   "outputs": [
    {
     "name": "stdout",
     "output_type": "stream",
     "text": [
      "Mean squared error: 0.094 \n",
      "SVR R2: 0.659 \n"
     ]
    }
   ],
   "source": [
    "from sklearn.svm import SVR\n",
    "svr =SVR().fit(X_train, y_train)\n",
    "svr_pre = svr.predict(X_test)\n",
    "print('Mean squared error: %.3f '%mean_squared_error(y_test, svr_pre))\n",
    "print('SVR R2: %.3f '%r2_score(y_test, svr_pre))"
   ]
  },
  {
   "cell_type": "markdown",
   "metadata": {},
   "source": [
    "From above two models, R2 is quite similar. In this case, change model might not be a good idea to improve accuracy a lot. Feature engineering is required. "
   ]
  },
  {
   "cell_type": "code",
   "execution_count": 56,
   "metadata": {},
   "outputs": [
    {
     "data": {
      "text/plain": [
       "array(['log price', 'log sqft_living15', 'bedrooms_0', 'bedrooms_1',\n",
       "       'bedrooms_2', 'bedrooms_3', 'bedrooms_4', 'bedrooms_5',\n",
       "       'bedrooms_6', 'bedrooms_7', 'bedrooms_8', 'bedrooms_9',\n",
       "       'bedrooms_10', 'bedrooms_11', 'bedrooms_33', 'bathrooms_0.0',\n",
       "       'bathrooms_0.5', 'bathrooms_0.75', 'bathrooms_1.0',\n",
       "       'bathrooms_1.25', 'bathrooms_1.5', 'bathrooms_1.75',\n",
       "       'bathrooms_2.0', 'bathrooms_2.25', 'bathrooms_2.5',\n",
       "       'bathrooms_2.75', 'bathrooms_3.0', 'bathrooms_3.25',\n",
       "       'bathrooms_3.5', 'bathrooms_3.75', 'bathrooms_4.0',\n",
       "       'bathrooms_4.25', 'bathrooms_4.5', 'bathrooms_4.75',\n",
       "       'bathrooms_5.0', 'bathrooms_5.25', 'bathrooms_5.5',\n",
       "       'bathrooms_5.75', 'bathrooms_6.0', 'bathrooms_6.25',\n",
       "       'bathrooms_6.5', 'bathrooms_6.75', 'bathrooms_7.5',\n",
       "       'bathrooms_7.75', 'bathrooms_8.0', 'floors_1.0', 'floors_1.5',\n",
       "       'floors_2.0', 'floors_2.5', 'floors_3.0', 'floors_3.5',\n",
       "       'waterfront_0', 'waterfront_1', 'view_0', 'view_1', 'view_2',\n",
       "       'view_3', 'view_4', 'condition_1', 'condition_2', 'condition_3',\n",
       "       'condition_4', 'condition_5', 'grade_1', 'grade_3', 'grade_4',\n",
       "       'grade_5', 'grade_6', 'grade_7', 'grade_8', 'grade_9', 'grade_10',\n",
       "       'grade_11', 'grade_12', 'grade_13', 'yr_built_new', 'yr_built_old',\n",
       "       'zipcode_dt', 'zipcode_suburban'], dtype=object)"
      ]
     },
     "execution_count": 56,
     "metadata": {},
     "output_type": "execute_result"
    }
   ],
   "source": [
    "df2.columns.values"
   ]
  },
  {
   "cell_type": "markdown",
   "metadata": {},
   "source": [
    "Noticed  that some features are related, such as larger livign areas also implies more bedrooms and bathrooms. Let's remove bathroooms and bedrooms to see how it changes model."
   ]
  },
  {
   "cell_type": "code",
   "execution_count": 57,
   "metadata": {},
   "outputs": [],
   "source": [
    "#take out the bedrooms bathrooms floors features, which are quite related.\n",
    "df3 = df2[['log price', 'log sqft_living15','waterfront_0', 'waterfront_1', 'view_0', 'view_1', 'view_2',\n",
    "       'view_3', 'view_4', 'condition_1', 'condition_2', 'condition_3',\n",
    "       'condition_4', 'condition_5', 'grade_1', 'grade_3', 'grade_4',\n",
    "       'grade_5', 'grade_6', 'grade_7', 'grade_8', 'grade_9', 'grade_10',\n",
    "       'grade_11', 'grade_12', 'grade_13', 'yr_built_new', 'yr_built_old',\n",
    "       'zipcode_dt', 'zipcode_suburban']]\n"
   ]
  },
  {
   "cell_type": "code",
   "execution_count": 58,
   "metadata": {},
   "outputs": [],
   "source": [
    "#split the dataset\n",
    "X = df3[df3.columns.values[1:]]\n",
    "y = df3['log price']\n",
    "X_train, X_test, y_train, y_test = train_test_split(X, y, test_size=0.3, random_state=0)"
   ]
  },
  {
   "cell_type": "code",
   "execution_count": 59,
   "metadata": {},
   "outputs": [
    {
     "name": "stdout",
     "output_type": "stream",
     "text": [
      "Mean squared error: 0.276 \n",
      "Lasso Regression R2: -0.000 \n"
     ]
    }
   ],
   "source": [
    "#train with Lasso model\n",
    "lasso = linear_model.Lasso(alpha =0.1).fit(X_train, y_train)\n",
    "la_pre = lasso.predict(X_test)\n",
    "print('Mean squared error: %.3f '%mean_squared_error(y_test, la_pre))\n",
    "print('Lasso Regression R2: %.3f '%r2_score(y_test, la_pre))"
   ]
  },
  {
   "cell_type": "code",
   "execution_count": 60,
   "metadata": {},
   "outputs": [
    {
     "name": "stdout",
     "output_type": "stream",
     "text": [
      "Mean squared error: 0.102 \n",
      "Gradien Boosting R2: 0.631 \n"
     ]
    }
   ],
   "source": [
    "#train with gradient boosting model\n",
    "gbr = GradientBoostingRegressor(random_state=0).fit(X_train, y_train)\n",
    "gbr_pre = gbr.predict(X_test)\n",
    "\n",
    "print('Mean squared error: %.3f '%mean_squared_error(y_test, gbr_pre))\n",
    "print('Gradien Boosting R2: %.3f '%r2_score(y_test, gbr_pre))"
   ]
  },
  {
   "cell_type": "code",
   "execution_count": 61,
   "metadata": {},
   "outputs": [
    {
     "name": "stdout",
     "output_type": "stream",
     "text": [
      "Mean squared error: 0.101 \n",
      "SVR R2: 0.635 \n"
     ]
    }
   ],
   "source": [
    "#train with SVR model\n",
    "svr =SVR().fit(X_train, y_train)\n",
    "svr_pre = svr.predict(X_test)\n",
    "print('Mean squared error: %.3f '%mean_squared_error(y_test, svr_pre))\n",
    "print('SVR R2: %.3f '%r2_score(y_test, svr_pre))"
   ]
  },
  {
   "cell_type": "markdown",
   "metadata": {},
   "source": [
    "All models trained with fewer features have lower r2 score and higher MSE, suggesting that those features are necessary. \n",
    "\n",
    "If we can't remove those features, then we need to re-engineering those features."
   ]
  },
  {
   "cell_type": "markdown",
   "metadata": {},
   "source": [
    "When revisiting our variables, I noticed that probably I can group bedrooms and bathrooms to reduce feature dimensions.\n"
   ]
  },
  {
   "cell_type": "code",
   "execution_count": 62,
   "metadata": {},
   "outputs": [],
   "source": [
    "#create a third data frame for feature engineering.\n",
    "df3 =pd.DataFrame()\n",
    "df3 = df[features]"
   ]
  },
  {
   "cell_type": "code",
   "execution_count": 63,
   "metadata": {},
   "outputs": [
    {
     "data": {
      "text/html": [
       "<div>\n",
       "<style scoped>\n",
       "    .dataframe tbody tr th:only-of-type {\n",
       "        vertical-align: middle;\n",
       "    }\n",
       "\n",
       "    .dataframe tbody tr th {\n",
       "        vertical-align: top;\n",
       "    }\n",
       "\n",
       "    .dataframe thead th {\n",
       "        text-align: right;\n",
       "    }\n",
       "</style>\n",
       "<table border=\"1\" class=\"dataframe\">\n",
       "  <thead>\n",
       "    <tr style=\"text-align: right;\">\n",
       "      <th></th>\n",
       "      <th>log price</th>\n",
       "      <th>bedrooms</th>\n",
       "      <th>bathrooms</th>\n",
       "      <th>floors</th>\n",
       "      <th>waterfront</th>\n",
       "      <th>view</th>\n",
       "      <th>condition</th>\n",
       "      <th>grade</th>\n",
       "      <th>yr_built</th>\n",
       "      <th>zipcode</th>\n",
       "      <th>log sqft_living15</th>\n",
       "    </tr>\n",
       "  </thead>\n",
       "  <tbody>\n",
       "    <tr>\n",
       "      <th>0</th>\n",
       "      <td>12.31</td>\n",
       "      <td>3</td>\n",
       "      <td>1.00</td>\n",
       "      <td>1.00</td>\n",
       "      <td>0</td>\n",
       "      <td>0</td>\n",
       "      <td>3</td>\n",
       "      <td>7</td>\n",
       "      <td>1955</td>\n",
       "      <td>98178</td>\n",
       "      <td>7.20</td>\n",
       "    </tr>\n",
       "    <tr>\n",
       "      <th>1</th>\n",
       "      <td>13.20</td>\n",
       "      <td>3</td>\n",
       "      <td>2.25</td>\n",
       "      <td>2.00</td>\n",
       "      <td>0</td>\n",
       "      <td>0</td>\n",
       "      <td>3</td>\n",
       "      <td>7</td>\n",
       "      <td>1951</td>\n",
       "      <td>98125</td>\n",
       "      <td>7.43</td>\n",
       "    </tr>\n",
       "    <tr>\n",
       "      <th>2</th>\n",
       "      <td>12.10</td>\n",
       "      <td>2</td>\n",
       "      <td>1.00</td>\n",
       "      <td>1.00</td>\n",
       "      <td>0</td>\n",
       "      <td>0</td>\n",
       "      <td>3</td>\n",
       "      <td>6</td>\n",
       "      <td>1933</td>\n",
       "      <td>98028</td>\n",
       "      <td>7.91</td>\n",
       "    </tr>\n",
       "    <tr>\n",
       "      <th>3</th>\n",
       "      <td>13.31</td>\n",
       "      <td>4</td>\n",
       "      <td>3.00</td>\n",
       "      <td>1.00</td>\n",
       "      <td>0</td>\n",
       "      <td>0</td>\n",
       "      <td>5</td>\n",
       "      <td>7</td>\n",
       "      <td>1965</td>\n",
       "      <td>98136</td>\n",
       "      <td>7.22</td>\n",
       "    </tr>\n",
       "    <tr>\n",
       "      <th>4</th>\n",
       "      <td>13.14</td>\n",
       "      <td>3</td>\n",
       "      <td>2.00</td>\n",
       "      <td>1.00</td>\n",
       "      <td>0</td>\n",
       "      <td>0</td>\n",
       "      <td>3</td>\n",
       "      <td>8</td>\n",
       "      <td>1987</td>\n",
       "      <td>98074</td>\n",
       "      <td>7.50</td>\n",
       "    </tr>\n",
       "    <tr>\n",
       "      <th>...</th>\n",
       "      <td>...</td>\n",
       "      <td>...</td>\n",
       "      <td>...</td>\n",
       "      <td>...</td>\n",
       "      <td>...</td>\n",
       "      <td>...</td>\n",
       "      <td>...</td>\n",
       "      <td>...</td>\n",
       "      <td>...</td>\n",
       "      <td>...</td>\n",
       "      <td>...</td>\n",
       "    </tr>\n",
       "    <tr>\n",
       "      <th>21608</th>\n",
       "      <td>12.79</td>\n",
       "      <td>3</td>\n",
       "      <td>2.50</td>\n",
       "      <td>3.00</td>\n",
       "      <td>0</td>\n",
       "      <td>0</td>\n",
       "      <td>3</td>\n",
       "      <td>8</td>\n",
       "      <td>2009</td>\n",
       "      <td>98103</td>\n",
       "      <td>7.33</td>\n",
       "    </tr>\n",
       "    <tr>\n",
       "      <th>21609</th>\n",
       "      <td>12.90</td>\n",
       "      <td>4</td>\n",
       "      <td>2.50</td>\n",
       "      <td>2.00</td>\n",
       "      <td>0</td>\n",
       "      <td>0</td>\n",
       "      <td>3</td>\n",
       "      <td>8</td>\n",
       "      <td>2014</td>\n",
       "      <td>98146</td>\n",
       "      <td>7.51</td>\n",
       "    </tr>\n",
       "    <tr>\n",
       "      <th>21610</th>\n",
       "      <td>12.90</td>\n",
       "      <td>2</td>\n",
       "      <td>0.75</td>\n",
       "      <td>2.00</td>\n",
       "      <td>0</td>\n",
       "      <td>0</td>\n",
       "      <td>3</td>\n",
       "      <td>7</td>\n",
       "      <td>2009</td>\n",
       "      <td>98144</td>\n",
       "      <td>6.93</td>\n",
       "    </tr>\n",
       "    <tr>\n",
       "      <th>21611</th>\n",
       "      <td>12.90</td>\n",
       "      <td>3</td>\n",
       "      <td>2.50</td>\n",
       "      <td>2.00</td>\n",
       "      <td>0</td>\n",
       "      <td>0</td>\n",
       "      <td>3</td>\n",
       "      <td>8</td>\n",
       "      <td>2004</td>\n",
       "      <td>98027</td>\n",
       "      <td>7.25</td>\n",
       "    </tr>\n",
       "    <tr>\n",
       "      <th>21612</th>\n",
       "      <td>12.69</td>\n",
       "      <td>2</td>\n",
       "      <td>0.75</td>\n",
       "      <td>2.00</td>\n",
       "      <td>0</td>\n",
       "      <td>0</td>\n",
       "      <td>3</td>\n",
       "      <td>7</td>\n",
       "      <td>2008</td>\n",
       "      <td>98144</td>\n",
       "      <td>6.93</td>\n",
       "    </tr>\n",
       "  </tbody>\n",
       "</table>\n",
       "<p>21613 rows × 11 columns</p>\n",
       "</div>"
      ],
      "text/plain": [
       "       log price  bedrooms  bathrooms  floors  waterfront  view  condition  \\\n",
       "0          12.31         3       1.00    1.00           0     0          3   \n",
       "1          13.20         3       2.25    2.00           0     0          3   \n",
       "2          12.10         2       1.00    1.00           0     0          3   \n",
       "3          13.31         4       3.00    1.00           0     0          5   \n",
       "4          13.14         3       2.00    1.00           0     0          3   \n",
       "...          ...       ...        ...     ...         ...   ...        ...   \n",
       "21608      12.79         3       2.50    3.00           0     0          3   \n",
       "21609      12.90         4       2.50    2.00           0     0          3   \n",
       "21610      12.90         2       0.75    2.00           0     0          3   \n",
       "21611      12.90         3       2.50    2.00           0     0          3   \n",
       "21612      12.69         2       0.75    2.00           0     0          3   \n",
       "\n",
       "       grade  yr_built  zipcode  log sqft_living15  \n",
       "0          7      1955    98178               7.20  \n",
       "1          7      1951    98125               7.43  \n",
       "2          6      1933    98028               7.91  \n",
       "3          7      1965    98136               7.22  \n",
       "4          8      1987    98074               7.50  \n",
       "...      ...       ...      ...                ...  \n",
       "21608      8      2009    98103               7.33  \n",
       "21609      8      2014    98146               7.51  \n",
       "21610      7      2009    98144               6.93  \n",
       "21611      8      2004    98027               7.25  \n",
       "21612      7      2008    98144               6.93  \n",
       "\n",
       "[21613 rows x 11 columns]"
      ]
     },
     "execution_count": 63,
     "metadata": {},
     "output_type": "execute_result"
    }
   ],
   "source": [
    "df3"
   ]
  },
  {
   "cell_type": "markdown",
   "metadata": {},
   "source": [
    "Most of the features are categorical data, such as bedrooms, bathrooms and floors, let's encode the categorical data."
   ]
  },
  {
   "cell_type": "code",
   "execution_count": 64,
   "metadata": {},
   "outputs": [
    {
     "data": {
      "text/plain": [
       "3.0"
      ]
     },
     "execution_count": 64,
     "metadata": {},
     "output_type": "execute_result"
    }
   ],
   "source": [
    "df3['bedrooms'].median()"
   ]
  },
  {
   "cell_type": "markdown",
   "metadata": {},
   "source": [
    "Use bedroom median as a threshold to group bedroom variable."
   ]
  },
  {
   "cell_type": "code",
   "execution_count": 65,
   "metadata": {},
   "outputs": [],
   "source": [
    "#grouping bedrooom into two groups\n",
    "small = df3['bedrooms'] <= 3.0\n",
    "large = df3['bedrooms'] > 3.0\n",
    "df3.loc[small,'bedrooms'] ='small'\n",
    "df3.loc[large,'bedrooms'] ='large'"
   ]
  },
  {
   "cell_type": "code",
   "execution_count": 66,
   "metadata": {},
   "outputs": [
    {
     "data": {
      "text/plain": [
       "2.25"
      ]
     },
     "execution_count": 66,
     "metadata": {},
     "output_type": "execute_result"
    }
   ],
   "source": [
    "df3['bathrooms'].median()"
   ]
  },
  {
   "cell_type": "markdown",
   "metadata": {},
   "source": [
    "Use bathrooms median as a threshold to group bathrooms variable"
   ]
  },
  {
   "cell_type": "code",
   "execution_count": 67,
   "metadata": {},
   "outputs": [],
   "source": [
    "#grouping bathrooms into two groups\n",
    "small = df3['bathrooms'] <= 2.25\n",
    "large = df3['bathrooms'] > 2.25\n",
    "df3.loc[small,'bathrooms'] ='small'\n",
    "df3.loc[large,'bathrooms'] ='large'"
   ]
  },
  {
   "cell_type": "code",
   "execution_count": 68,
   "metadata": {},
   "outputs": [
    {
     "data": {
      "text/plain": [
       "1.5"
      ]
     },
     "execution_count": 68,
     "metadata": {},
     "output_type": "execute_result"
    }
   ],
   "source": [
    "df3['floors'].median()"
   ]
  },
  {
   "cell_type": "markdown",
   "metadata": {},
   "source": [
    "Use floors median as a threshold to group bathrooms variable"
   ]
  },
  {
   "cell_type": "code",
   "execution_count": 69,
   "metadata": {},
   "outputs": [],
   "source": [
    "#grouping floors into two groups\n",
    "small = df3['floors'] <= 1.5\n",
    "large = df3['floors'] > 1.5\n",
    "df3.loc[small,'floors'] ='small'\n",
    "df3.loc[large,'floors'] ='large'"
   ]
  },
  {
   "cell_type": "markdown",
   "metadata": {},
   "source": [
    "Grades also has a wide range, we also group the grades"
   ]
  },
  {
   "cell_type": "code",
   "execution_count": 70,
   "metadata": {},
   "outputs": [
    {
     "data": {
      "text/plain": [
       "7.0"
      ]
     },
     "execution_count": 70,
     "metadata": {},
     "output_type": "execute_result"
    }
   ],
   "source": [
    "df3['grade'].median()"
   ]
  },
  {
   "cell_type": "code",
   "execution_count": 71,
   "metadata": {},
   "outputs": [],
   "source": [
    "#grouping grade into two groups\n",
    "small = df3['grade'] <= 1.5\n",
    "large = df3['grade'] > 1.5\n",
    "df3.loc[small,'grade'] ='small'\n",
    "df3.loc[large,'grade'] ='large'"
   ]
  },
  {
   "cell_type": "markdown",
   "metadata": {},
   "source": [
    "We also group yr_built and zipcode like what we did in the first trial"
   ]
  },
  {
   "cell_type": "code",
   "execution_count": 72,
   "metadata": {},
   "outputs": [],
   "source": [
    "old = df3['yr_built'] <= 1960\n",
    "new = df3['yr_built'] > 1960\n",
    "df3.loc[old,'yr_built'] ='old'\n",
    "df3.loc[new,'yr_built'] ='new'"
   ]
  },
  {
   "cell_type": "code",
   "execution_count": 73,
   "metadata": {},
   "outputs": [],
   "source": [
    "dt = df3['zipcode'] <= 98100\n",
    "suburban = df3['zipcode'] >98100\n",
    "df3.loc[dt, 'zipcode'] = 'dt'\n",
    "df3.loc[suburban, 'zipcode'] = 'suburban'"
   ]
  },
  {
   "cell_type": "markdown",
   "metadata": {},
   "source": [
    "Encode all the categorical data."
   ]
  },
  {
   "cell_type": "code",
   "execution_count": 74,
   "metadata": {},
   "outputs": [],
   "source": [
    "#create a list of categorical variables that needs encode\n",
    "cat_list = ['bedrooms', 'bathrooms', 'floors', 'waterfront',\n",
    "             'view', 'condition','grade', 'yr_built','zipcode']\n",
    "df3= pd.get_dummies(df3, columns= cat_list)"
   ]
  },
  {
   "cell_type": "markdown",
   "metadata": {},
   "source": [
    "Data are ready to be trained"
   ]
  },
  {
   "cell_type": "code",
   "execution_count": 75,
   "metadata": {},
   "outputs": [],
   "source": [
    "#split dataset\n",
    "X = df3[df3.columns.values[1:]]\n",
    "y = df3['log price']\n",
    "X_train, X_test, y_train, y_test = train_test_split(X, y, test_size=0.3, random_state=0)"
   ]
  },
  {
   "cell_type": "code",
   "execution_count": 76,
   "metadata": {},
   "outputs": [
    {
     "name": "stdout",
     "output_type": "stream",
     "text": [
      "Mean squared error: 0.266 \n",
      "Lasso Regression R2: 0.035 \n"
     ]
    }
   ],
   "source": [
    "#train with Lasso model\n",
    "lasso = linear_model.Lasso(alpha =0.1).fit(X_train, y_train)\n",
    "la_pre = lasso.predict(X_test)\n",
    "print('Mean squared error: %.3f '%mean_squared_error(y_test, la_pre))\n",
    "print('Lasso Regression R2: %.3f '%r2_score(y_test, la_pre))"
   ]
  },
  {
   "cell_type": "code",
   "execution_count": 77,
   "metadata": {},
   "outputs": [
    {
     "name": "stdout",
     "output_type": "stream",
     "text": [
      "Mean squared error: 0.131 \n",
      "Gradien Boosting R2: 0.526 \n"
     ]
    }
   ],
   "source": [
    "#train with gradient boosting model\n",
    "gbr = GradientBoostingRegressor(random_state=0).fit(X_train, y_train)\n",
    "gbr_pre = gbr.predict(X_test)\n",
    "\n",
    "print('Mean squared error: %.3f '%mean_squared_error(y_test, gbr_pre))\n",
    "print('Gradien Boosting R2: %.3f '%r2_score(y_test, gbr_pre))"
   ]
  },
  {
   "cell_type": "code",
   "execution_count": 78,
   "metadata": {},
   "outputs": [
    {
     "name": "stdout",
     "output_type": "stream",
     "text": [
      "Mean squared error: 0.132 \n",
      "SVR R2: 0.521 \n"
     ]
    }
   ],
   "source": [
    "#train with SVR model\n",
    "svr =SVR().fit(X_train, y_train)\n",
    "svr_pre = svr.predict(X_test)\n",
    "print('Mean squared error: %.3f '%mean_squared_error(y_test, svr_pre))\n",
    "print('SVR R2: %.3f '%r2_score(y_test, svr_pre))"
   ]
  },
  {
   "cell_type": "markdown",
   "metadata": {},
   "source": [
    "From two feature engineering, reducing features and grouping categorical data do not help improve model performance.\n",
    "Let's try to train fall features, except date, id, which are not related to price. While long, lat, sqft_living, sqft_lot are repeated features to zipcode, sqft_living15 and sqft_lot15.\n",
    "\n",
    "Let's encode all categorical variables."
   ]
  },
  {
   "cell_type": "code",
   "execution_count": 79,
   "metadata": {},
   "outputs": [],
   "source": [
    "df4 = pd.DataFrame()\n",
    "df4 = df[['bedrooms', 'bathrooms', 'floors', 'waterfront', 'view', 'condition', 'grade',\n",
    "       'sqft_above', 'sqft_basement', 'yr_built', 'zipcode', 'sqft_lot15',\n",
    "       'log price', 'log sqft_living15']]"
   ]
  },
  {
   "cell_type": "code",
   "execution_count": 80,
   "metadata": {},
   "outputs": [],
   "source": [
    "cat_list = ['bedrooms', 'bathrooms', 'floors', 'waterfront', 'view', 'condition', 'grade',\n",
    "            'yr_built', 'zipcode']\n",
    "df4= pd.get_dummies(df4, columns= cat_list)"
   ]
  },
  {
   "cell_type": "markdown",
   "metadata": {},
   "source": [
    "Next, we need to standardize all numerical variables."
   ]
  },
  {
   "cell_type": "code",
   "execution_count": 81,
   "metadata": {},
   "outputs": [],
   "source": [
    "num_list = ['sqft_above', 'sqft_basement', 'sqft_lot15', 'log price',\n",
    "       'log sqft_living15']\n",
    "for i in num_list:\n",
    "    normal = scaler.fit_transform(pd.DataFrame(df4[i]))\n",
    "    df4.loc[:,i]  = normal"
   ]
  },
  {
   "cell_type": "markdown",
   "metadata": {},
   "source": [
    "Data are ready to train models.\n"
   ]
  },
  {
   "cell_type": "code",
   "execution_count": 82,
   "metadata": {},
   "outputs": [
    {
     "data": {
      "text/plain": [
       "'log price'"
      ]
     },
     "execution_count": 82,
     "metadata": {},
     "output_type": "execute_result"
    }
   ],
   "source": [
    "features4 =df4.columns.values.tolist()\n",
    "#remove log price from features\n",
    "features4.pop(3)"
   ]
  },
  {
   "cell_type": "code",
   "execution_count": 83,
   "metadata": {},
   "outputs": [],
   "source": [
    "#split dataset\n",
    "X = df4[features4]\n",
    "y = df4['log price']\n",
    "X_train, X_test, y_train, y_test = train_test_split(X, y, test_size=0.3, random_state=0)"
   ]
  },
  {
   "cell_type": "code",
   "execution_count": 84,
   "metadata": {},
   "outputs": [
    {
     "name": "stdout",
     "output_type": "stream",
     "text": [
      "Mean squared error: 5516239278976.393 \n",
      "Linear Regression R2: -12463.504 \n"
     ]
    }
   ],
   "source": [
    "#fitting linear regression model and get predicted values\n",
    "lreg = LinearRegression().fit(X_train, y_train)\n",
    "lreg_pre = lreg.predict(X_test)\n",
    "print('Mean squared error: %.3f '%mean_squared_error(y_test, lreg_pre))\n",
    "print('Linear Regression R2: %.3f '%r2_score(y_test, la_pre))"
   ]
  },
  {
   "cell_type": "code",
   "execution_count": 85,
   "metadata": {},
   "outputs": [
    {
     "name": "stdout",
     "output_type": "stream",
     "text": [
      "Mean squared error: 0.013 \n",
      "Lasso Regression R2: -0.000 \n"
     ]
    }
   ],
   "source": [
    "#train with Lasso model\n",
    "lasso = linear_model.Lasso().fit(X_train, y_train)\n",
    "la_pre = lasso.predict(X_test)\n",
    "print('Mean squared error: %.3f '%mean_squared_error(y_test, la_pre))\n",
    "print('Lasso Regression R2: %.3f '%r2_score(y_test, la_pre))"
   ]
  },
  {
   "cell_type": "code",
   "execution_count": 86,
   "metadata": {},
   "outputs": [
    {
     "name": "stdout",
     "output_type": "stream",
     "text": [
      "Mean squared error: 0.003 \n",
      "Gradien Boosting R2: 0.781 \n"
     ]
    }
   ],
   "source": [
    "#train with gradient boosting model\n",
    "gbr = GradientBoostingRegressor(random_state=0).fit(X_train, y_train)\n",
    "gbr_pre = gbr.predict(X_test)\n",
    "\n",
    "print('Mean squared error: %.3f '%mean_squared_error(y_test, gbr_pre))\n",
    "print('Gradien Boosting R2: %.3f '%r2_score(y_test, gbr_pre))"
   ]
  },
  {
   "cell_type": "code",
   "execution_count": 87,
   "metadata": {},
   "outputs": [
    {
     "name": "stdout",
     "output_type": "stream",
     "text": [
      "Mean squared error: 0.002 \n",
      "SVR R2: 0.807 \n"
     ]
    }
   ],
   "source": [
    "#train with SVR model\n",
    "svr =SVR().fit(X_train, y_train)\n",
    "svr_pre = svr.predict(X_test)\n",
    "print('Mean squared error: %.3f '%mean_squared_error(y_test, svr_pre))\n",
    "print('SVR R2: %.3f '%r2_score(y_test, svr_pre))"
   ]
  },
  {
   "cell_type": "markdown",
   "metadata": {},
   "source": [
    "With all features included, the performance of gradient boosting and SVR model based on R2 scores amd mean squared error. However, both linear and lasso regression still have poor performace, we might to tune parameters to improve performance. However, Gradient Boosting and SVR give promising perforamce in this dataset. \n",
    "### Summary\n",
    "\n",
    "### Feature selection\n",
    "When I first look at the data, I think some of the features are not related to price, like dates and ID. I also noticed that some features are very similar, like the sqft_living and sqft_living 15. Also, features like sqft_above and sqft_basement are somehow related to lot size. \n",
    "\n",
    "Thus, the first set of features I trained, I removed features, like sqft_basement, sqft_above, and groupping yr_build and zipcode into two ranges, trying to reduce the number of features. The best r2 I got is around 0.6. \n",
    "\n",
    "Secondly, I was thinking there are still too many features, and some features are related to each other. Like larger living areas also implies more bedrooms and bathrooms. So I removed bedrooms and bathrooms, only keeping the living areas. The performance became worse, suggesting that prices are dependent on both bedrooms and bathrooms.\n",
    "\n",
    "Third, we know that bedrooms and bathrooms are necessary, but they have wide ranges of values. Then I used median of each features to group them, trying to make it more concise. Again, performance got worse. This make me think that the actual number of rooms matter in house pricing.\n",
    "\n",
    "Lastly, I decided to include all features, except repeated features (long, lat, etc), and encode all categorial variables in their original form. And luckily, performance got improved to 0.8!\n",
    "\n",
    "We see that most of the features play roles in house pricing, keepign them is necessary. To engierring features, first, removing features that are not related to the target variables, like id. Second, only keep features providing different information. Next, we need to find out which form of the data is better represented by normal distribution(or other distribution), then normalize all numerical values. Next, encoding the categorical variables. Finally, train the model. To improve model performance, we can grouping categorical data into smaller number of groups (although it doesn't work in this dataset). And this found out also agrees with our graphically analysis that bedroom, bathrooms affects prices siginificantly. Prices are not solely dependent on one factors. \n",
    "\n",
    "### Model selection\n",
    "Linear regression is one of the most well know and well understood algorithm. The representation is an linear equation that have coefficients and features combine togother. Lasso regression is a selection model, where some features can be removed by having zero coefficient. Both regression model gave poor performance, implying that the price is heavily non-linearly dependent of features. And the aim of linear regression is to reduce the error. \n",
    "\n",
    "Next, I selected gradient boosting and SVR as new models. \n",
    "\n",
    "Gradient boosting a popular tree-based mechniasm that is use gradient descent in cost function to optimize model performance. SVR, a more complex linear regression model, which define how much error is acceptable in the model. It provides flexibility on errors, unlike linear model which only finds the smallest error. Use the same trainning and testing data set, SVR outperforms than gradient boosting. \n"
   ]
  },
  {
   "cell_type": "markdown",
   "metadata": {},
   "source": [
    "### Conclusion\n",
    "\n",
    "In this king county house pricing dataset, we found that house pricing is not solely dependent on a few factors, like living areas, zipcode etc. Intead, the house pricing depends on most of the given features, living areas, number of bathrooms and bedrooms, waterfront or not, floors and so on. Also, house pricing is not linearly related to features due to the poor performance of linear regression models. Combined effect of various effect contribute to the house pricing in King county. The best model we found is the SVR model, with r2-score to be around 0.8, closd to the best value 1.0. "
   ]
  }
 ],
 "metadata": {
  "kernelspec": {
   "display_name": "Python 3",
   "language": "python",
   "name": "python3"
  },
  "language_info": {
   "codemirror_mode": {
    "name": "ipython",
    "version": 3
   },
   "file_extension": ".py",
   "mimetype": "text/x-python",
   "name": "python",
   "nbconvert_exporter": "python",
   "pygments_lexer": "ipython3",
   "version": "3.7.6"
  }
 },
 "nbformat": 4,
 "nbformat_minor": 1
}
